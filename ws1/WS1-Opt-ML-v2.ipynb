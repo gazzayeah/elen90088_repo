{
 "cells": [
  {
   "cell_type": "markdown",
   "metadata": {
    "toc": true,
    "pycharm": {
     "name": "#%% md\n"
    }
   },
   "source": [
    "<h1>Table of Contents<span class=\"tocSkip\"></span></h1>\n",
    "<div class=\"toc\"><ul class=\"toc-item\"><li><span><a href=\"#Part-I-–-Optimisation\" data-toc-modified-id=\"Part-I-–-Optimisation-1\"><span class=\"toc-item-num\">1&nbsp;&nbsp;</span>Part I – Optimisation</a></span><ul class=\"toc-item\"><li><span><a href=\"#Topics-Covered\" data-toc-modified-id=\"Topics-Covered-1.1\"><span class=\"toc-item-num\">1.1&nbsp;&nbsp;</span>Topics Covered</a></span></li><li><span><a href=\"#Topic-Notes\" data-toc-modified-id=\"Topic-Notes-1.2\"><span class=\"toc-item-num\">1.2&nbsp;&nbsp;</span>Topic Notes</a></span></li><li><span><a href=\"#Workflow-and-Assessment-\" data-toc-modified-id=\"Workflow-and-Assessment--1.3\"><span class=\"toc-item-num\">1.3&nbsp;&nbsp;</span>Workflow and Assessment <a name=\"WorkflowandAssessment\" rel=\"nofollow\"></a></a></span><ul class=\"toc-item\"><li><span><a href=\"#Objectives:-\" data-toc-modified-id=\"Objectives:--1.3.1\"><span class=\"toc-item-num\">1.3.1&nbsp;&nbsp;</span>Objectives: <a name=\"Objectives\" rel=\"nofollow\"></a></a></span><ul class=\"toc-item\"><li><span><a href=\"#Common-objectives-of-all-workshops-\" data-toc-modified-id=\"Common-objectives-of-all-workshops--1.3.1.1\"><span class=\"toc-item-num\">1.3.1.1&nbsp;&nbsp;</span>Common objectives of all workshops <a name=\"Commonobjectivesofallworkshops\" rel=\"nofollow\"></a></a></span></li></ul></li><li><span><a href=\"#Assessment-Process-\" data-toc-modified-id=\"Assessment-Process--1.3.2\"><span class=\"toc-item-num\">1.3.2&nbsp;&nbsp;</span>Assessment Process <a name=\"AssessmentProcess\" rel=\"nofollow\"></a></a></span></li></ul></li><li><span><a href=\"#Convex-Functions-\" data-toc-modified-id=\"Convex-Functions--1.4\"><span class=\"toc-item-num\">1.4&nbsp;&nbsp;</span>Convex Functions <a name=\"SectionConvexFunctions\" rel=\"nofollow\"></a></a></span><ul class=\"toc-item\"><li><span><a href=\"#Practice-Question\" data-toc-modified-id=\"Practice-Question-1.4.1\"><span class=\"toc-item-num\">1.4.1&nbsp;&nbsp;</span>Practice Question</a></span></li><li><span><a href=\"#Curiousity-Question\" data-toc-modified-id=\"Curiousity-Question-1.4.2\"><span class=\"toc-item-num\">1.4.2&nbsp;&nbsp;</span>Curiousity Question</a></span></li><li><span><a href=\"#Discussion-Question\" data-toc-modified-id=\"Discussion-Question-1.4.3\"><span class=\"toc-item-num\">1.4.3&nbsp;&nbsp;</span>Discussion Question</a></span></li></ul></li><li><span><a href=\"#Unconstrained-Optimisation-\" data-toc-modified-id=\"Unconstrained-Optimisation--1.5\"><span class=\"toc-item-num\">1.5&nbsp;&nbsp;</span>Unconstrained Optimisation <a name=\"SectionUnconstrainedOptimisation\" rel=\"nofollow\"></a></a></span><ul class=\"toc-item\"><li><span><a href=\"#Example:-Aloha-communication-protocol-\" data-toc-modified-id=\"Example:-Aloha-communication-protocol--1.5.1\"><span class=\"toc-item-num\">1.5.1&nbsp;&nbsp;</span>Example: Aloha communication protocol <a name=\"ExampleAlohacommunicationprotocol\" rel=\"nofollow\"></a></a></span></li><li><span><a href=\"#Slotted-Aloha-Efficiency-\" data-toc-modified-id=\"Slotted-Aloha-Efficiency--1.5.2\"><span class=\"toc-item-num\">1.5.2&nbsp;&nbsp;</span>Slotted Aloha Efficiency <a name=\"SlottedAlohaEfficiency\" rel=\"nofollow\"></a></a></span></li><li><span><a href=\"#Question\" data-toc-modified-id=\"Question-1.5.3\"><span class=\"toc-item-num\">1.5.3&nbsp;&nbsp;</span>Question</a></span></li><li><span><a href=\"#Question\" data-toc-modified-id=\"Question-1.5.4\"><span class=\"toc-item-num\">1.5.4&nbsp;&nbsp;</span>Question</a></span></li></ul></li><li><span><a href=\"#Constrained-Optimisation-\" data-toc-modified-id=\"Constrained-Optimisation--1.6\"><span class=\"toc-item-num\">1.6&nbsp;&nbsp;</span>Constrained Optimisation <a name=\"SectionConstrainedOptimisation\" rel=\"nofollow\"></a></a></span></li><li><span><a href=\"#Example:-Non-Convex-Optimisation\" data-toc-modified-id=\"Example:-Non-Convex-Optimisation-1.7\"><span class=\"toc-item-num\">1.7&nbsp;&nbsp;</span>Example: Non-Convex Optimisation</a></span></li><li><span><a href=\"#Using-random.seed()-for-pseudo-random-number-generation-\" data-toc-modified-id=\"Using-random.seed()-for-pseudo-random-number-generation--1.8\"><span class=\"toc-item-num\">1.8&nbsp;&nbsp;</span>Using random.seed() for pseudo-random number generation <a name=\"Usingrandomseedforpseudorandomnumbergeneration\" rel=\"nofollow\"></a></a></span><ul class=\"toc-item\"><li><span><a href=\"#Important-Note-on-Random-Number/Vector-Generation-\" data-toc-modified-id=\"Important-Note-on-Random-Number/Vector-Generation--1.8.1\"><span class=\"toc-item-num\">1.8.1&nbsp;&nbsp;</span>Important Note on Random Number/Vector Generation <a name=\"ImportantNoteonRandomNumberVectorGeneration\" rel=\"nofollow\"></a></a></span></li></ul></li><li><span><a href=\"#Example-Economic-Dispatch-in-Power-Generation\" data-toc-modified-id=\"Example-Economic-Dispatch-in-Power-Generation-1.9\"><span class=\"toc-item-num\">1.9&nbsp;&nbsp;</span>Example Economic Dispatch in Power Generation</a></span><ul class=\"toc-item\"><li><span><a href=\"#Question:-Economic-Dispatch\" data-toc-modified-id=\"Question:-Economic-Dispatch-1.9.1\"><span class=\"toc-item-num\">1.9.1&nbsp;&nbsp;</span>Question: Economic Dispatch</a></span></li></ul></li><li><span><a href=\"#Example:-Waterfilling-in-Communications\" data-toc-modified-id=\"Example:-Waterfilling-in-Communications-1.10\"><span class=\"toc-item-num\">1.10&nbsp;&nbsp;</span>Example: Waterfilling in Communications</a></span><ul class=\"toc-item\"><li><span><a href=\"#Question\" data-toc-modified-id=\"Question-1.10.1\"><span class=\"toc-item-num\">1.10.1&nbsp;&nbsp;</span>Question</a></span></li></ul></li><li><span><a href=\"#Example:-Power-Control-in-Wireless-Communication\" data-toc-modified-id=\"Example:-Power-Control-in-Wireless-Communication-1.11\"><span class=\"toc-item-num\">1.11&nbsp;&nbsp;</span>Example: Power Control in Wireless Communication</a></span><ul class=\"toc-item\"><li><span><a href=\"#Question:-Wireless-Power-Control\" data-toc-modified-id=\"Question:-Wireless-Power-Control-1.11.1\"><span class=\"toc-item-num\">1.11.1&nbsp;&nbsp;</span>Question: Wireless Power Control</a></span></li></ul></li></ul></li><li><span><a href=\"#Part-II---Machine-Learning-(ML)\" data-toc-modified-id=\"Part-II---Machine-Learning-(ML)-2\"><span class=\"toc-item-num\">2&nbsp;&nbsp;</span>Part II - Machine Learning (ML)</a></span><ul class=\"toc-item\"><li><span><a href=\"#Topics-Covered-in-Part-2\" data-toc-modified-id=\"Topics-Covered-in-Part-2-2.1\"><span class=\"toc-item-num\">2.1&nbsp;&nbsp;</span>Topics Covered in Part 2<a name=\"TopicsCovered\" rel=\"nofollow\"></a></a></span></li><li><span><a href=\"#Part-2-Notes--\" data-toc-modified-id=\"Part-2-Notes---2.2\"><span class=\"toc-item-num\">2.2&nbsp;&nbsp;</span>Part 2 Notes  <a name=\"TopicNotes\" rel=\"nofollow\"></a></a></span></li><li><span><a href=\"#Part-2-Objectives-\" data-toc-modified-id=\"Part-2-Objectives--2.3\"><span class=\"toc-item-num\">2.3&nbsp;&nbsp;</span>Part 2 Objectives <a name=\"Objectives\" rel=\"nofollow\"></a></a></span></li><li><span><a href=\"#Linear-Regression,-Overfitting,-and-Regularisation\" data-toc-modified-id=\"Linear-Regression,-Overfitting,-and-Regularisation-2.4\"><span class=\"toc-item-num\">2.4&nbsp;&nbsp;</span>Linear Regression, Overfitting, and Regularisation</a></span><ul class=\"toc-item\"><li><span><a href=\"#Example:-Using-curve-fitting-to-model-Diode-characteristics\" data-toc-modified-id=\"Example:-Using-curve-fitting-to-model-Diode-characteristics-2.4.1\"><span class=\"toc-item-num\">2.4.1&nbsp;&nbsp;</span>Example: Using curve fitting to model Diode characteristics</a></span></li><li><span><a href=\"#Question:-Regression\" data-toc-modified-id=\"Question:-Regression-2.4.2\"><span class=\"toc-item-num\">2.4.2&nbsp;&nbsp;</span>Question: Regression</a></span><ul class=\"toc-item\"><li><span><a href=\"#Hints-\" data-toc-modified-id=\"Hints--2.4.2.1\"><span class=\"toc-item-num\">2.4.2.1&nbsp;&nbsp;</span>Hints <a name=\"Hints\" rel=\"nofollow\"></a></a></span></li></ul></li></ul></li><li><span><a href=\"#Clustering-and-Gaussian-Mixtures\" data-toc-modified-id=\"Clustering-and-Gaussian-Mixtures-2.5\"><span class=\"toc-item-num\">2.5&nbsp;&nbsp;</span>Clustering and Gaussian Mixtures</a></span><ul class=\"toc-item\"><li><span><a href=\"#Question:-K-means-clustering\" data-toc-modified-id=\"Question:-K-means-clustering-2.5.1\"><span class=\"toc-item-num\">2.5.1&nbsp;&nbsp;</span>Question: K-means clustering</a></span></li><li><span><a href=\"#Question:-GMMs-as-density-estimators\" data-toc-modified-id=\"Question:-GMMs-as-density-estimators-2.5.2\"><span class=\"toc-item-num\">2.5.2&nbsp;&nbsp;</span>Question: GMMs as density estimators</a></span></li></ul></li></ul></li><li><span><a href=\"#-Workshop-Assessment-Instructions-\" data-toc-modified-id=\"-Workshop-Assessment-Instructions--3\"><span class=\"toc-item-num\">3&nbsp;&nbsp;</span><font color=\"red\"> Workshop Assessment Instructions </font></a></span><ul class=\"toc-item\"><li><span><a href=\"#Workshop-Marking\" data-toc-modified-id=\"Workshop-Marking-3.1\"><span class=\"toc-item-num\">3.1&nbsp;&nbsp;</span>Workshop Marking</a></span><ul class=\"toc-item\"><li><span><a href=\"#Additional-guidelines-for-your-programs:\" data-toc-modified-id=\"Additional-guidelines-for-your-programs:-3.1.1\"><span class=\"toc-item-num\">3.1.1&nbsp;&nbsp;</span>Additional guidelines for your programs:</a></span></li></ul></li></ul></li></ul></div>"
   ]
  },
  {
   "cell_type": "markdown",
   "metadata": {
    "pycharm": {
     "name": "#%% md\n"
    }
   },
   "source": [
    "<span style=\"font-size:2em\">Workshop 1 – Optimisation and Machine Learning [3 weeks] </span>"
   ]
  },
  {
   "cell_type": "markdown",
   "metadata": {
    "pycharm": {
     "name": "#%% md\n"
    }
   },
   "source": [
    "# Part I – Optimisation\n",
    "\n",
    "## Topics Covered \n",
    "    \n",
    "* Optimisation basics, formulation of optimisation problems\n",
    "* Local/global minima/maxima\n",
    "* Convex sets and functions\n",
    "* Unconstrained optimisation and optimality conditions\n",
    "* Constrained optimisation, equality and inequality constraints, constraint sets\n",
    "* Lagrange theory and KKT conditions\n",
    "     \n",
    "![Topic_mindmap](img/WS1-Part_1-topics.png)     \n",
    "\n",
    "\n",
    "## Topic Notes  \n",
    "Another name for the field of “Optimisation” is “Mathematical Optimisation.” As the name indicates, optimisation is an area of applied mathematics. It is possible to study optimisation entirely from a mathematical perspective. However, engineers are interested in solving real-world problems in a principled way. Many engineering problems can be and are formulated as optimisation problems. In those cases, mathematical optimisation provides a solid theoretical foundation for solving them in a principled way.\n",
    "\n",
    "In this workshop, you will learn how to formulate and solve optimisation problems in practice. This will give you a chance to connect theoretical knowledge and practical usage by doing it yourself. You will familiarise yourself with practical optimisation tools for Python. These are chosen completely for educational reasons (simplicity, accessibility, cost). While the underlying mathematics is timeless, optimisation software evolves with time, and can be diverse. Fortunately, once you learn one or two, it should be rather easy to learn others now and in the future because software designers often try to make it user friendly and take into account what people already know. \n",
    "\n",
    "> In the future, you should consider learning serious [optimisation software](https://en.wikipedia.org/wiki/List_of_optimization_software) for scalability and reliability. They can be complex and/or expensive but they get the job done for serious engineering. Learning such software takes a significant amount of time and is beyond the scope of this subject."
   ]
  },
  {
   "cell_type": "markdown",
   "metadata": {
    "collapsed": true,
    "pycharm": {
     "name": "#%% md\n"
    }
   },
   "source": [
    "## Workflow and Assessment <a name=\"WorkflowandAssessment\"></a>\n",
    "\n",
    "This subject follows a problem- and project-oriented approach. In this learning workflow, the focus is on solving practical (engineering) problems, which motivate acquiring theoretical (background) knowledge at the same time.\n",
    "\n",
    "### Objectives: <a name=\"Objectives\"></a>\n",
    "* Use these problems as a motivation to learn the fundamentals of optimisation covered in lectures.\n",
    "* Learn how to formulate and solve optimisation problems in practice.\n",
    "* Familiarise yourself with practical software tools used for optimisation.\n",
    "* Solve optimisation problems using Python (and/or Matlab).\n",
    "* Connect theoretical knowledge and practical usage by doing it yourself.\n",
    "#### Common objectives of all workshops <a name=\"Commonobjectivesofallworkshops\"></a>\n",
    "Gain hands-on experience and learn by doing! Understand how theoretical knowledge discussed in lectures relates to practice. Develop motivation for gaining further theoretical and practical knowledge beyond the subject material.\n",
    "\n",
    "> __Self-learning__ is one of the most important skills that you should acquire as a student. Today, self-learning is much easier than it used to be thanks to a plethora of online resources.\n",
    "\n",
    "### Assessment Process <a name=\"AssessmentProcess\"></a>\n",
    "\n",
    "1. Follow the procedures described below, perform the given tasks, and answer the workshop questions __in this Python notebook itself! The resulting notebook will be your Workshop Report!__\n",
    "2. Submit the workshop report at the announced deadline\n",
    "3. Demonstrators will conduct a brief (5min) oral quiz on your submitted report in the subsequent weeks.\n",
    "4. Your workshop marks will be a combination of the report you submitted and oral quiz results.\n",
    "\n",
    "\n",
    "> __The goal is to learn__, NOT blindly follow the procedures in the fastest possible way! __Do not simply copy-paste answers (from Internet, friends, etc.). You can and should use all available resources but only to develop your own understanding. If you copy-paste, you will pay the price in the oral quiz!__"
   ]
  },
  {
   "cell_type": "markdown",
   "metadata": {
    "collapsed": true,
    "pycharm": {
     "name": "#%% md\n"
    }
   },
   "source": [
    "## Convex Functions <a name=\"SectionConvexFunctions\"></a>"
   ]
  },
  {
   "cell_type": "markdown",
   "metadata": {
    "pycharm": {
     "name": "#%% md\n"
    }
   },
   "source": [
    "Remember the definition of convex and concave functions from lecture slides. Functions are mathematical objects but they are used in engineering in very practical ways, for example, to represent the relationship between two quantities. Let's draw a function!"
   ]
  },
  {
   "cell_type": "code",
   "execution_count": 20,
   "metadata": {
    "pycharm": {
     "name": "#%%\n"
    }
   },
   "outputs": [
    {
     "data": {
      "text/plain": "<IPython.core.display.Javascript object>",
      "application/javascript": "/* Put everything inside the global mpl namespace */\n/* global mpl */\nwindow.mpl = {};\n\nmpl.get_websocket_type = function () {\n    if (typeof WebSocket !== 'undefined') {\n        return WebSocket;\n    } else if (typeof MozWebSocket !== 'undefined') {\n        return MozWebSocket;\n    } else {\n        alert(\n            'Your browser does not have WebSocket support. ' +\n                'Please try Chrome, Safari or Firefox ≥ 6. ' +\n                'Firefox 4 and 5 are also supported but you ' +\n                'have to enable WebSockets in about:config.'\n        );\n    }\n};\n\nmpl.figure = function (figure_id, websocket, ondownload, parent_element) {\n    this.id = figure_id;\n\n    this.ws = websocket;\n\n    this.supports_binary = this.ws.binaryType !== undefined;\n\n    if (!this.supports_binary) {\n        var warnings = document.getElementById('mpl-warnings');\n        if (warnings) {\n            warnings.style.display = 'block';\n            warnings.textContent =\n                'This browser does not support binary websocket messages. ' +\n                'Performance may be slow.';\n        }\n    }\n\n    this.imageObj = new Image();\n\n    this.context = undefined;\n    this.message = undefined;\n    this.canvas = undefined;\n    this.rubberband_canvas = undefined;\n    this.rubberband_context = undefined;\n    this.format_dropdown = undefined;\n\n    this.image_mode = 'full';\n\n    this.root = document.createElement('div');\n    this.root.setAttribute('style', 'display: inline-block');\n    this._root_extra_style(this.root);\n\n    parent_element.appendChild(this.root);\n\n    this._init_header(this);\n    this._init_canvas(this);\n    this._init_toolbar(this);\n\n    var fig = this;\n\n    this.waiting = false;\n\n    this.ws.onopen = function () {\n        fig.send_message('supports_binary', { value: fig.supports_binary });\n        fig.send_message('send_image_mode', {});\n        if (fig.ratio !== 1) {\n            fig.send_message('set_device_pixel_ratio', {\n                device_pixel_ratio: fig.ratio,\n            });\n        }\n        fig.send_message('refresh', {});\n    };\n\n    this.imageObj.onload = function () {\n        if (fig.image_mode === 'full') {\n            // Full images could contain transparency (where diff images\n            // almost always do), so we need to clear the canvas so that\n            // there is no ghosting.\n            fig.context.clearRect(0, 0, fig.canvas.width, fig.canvas.height);\n        }\n        fig.context.drawImage(fig.imageObj, 0, 0);\n    };\n\n    this.imageObj.onunload = function () {\n        fig.ws.close();\n    };\n\n    this.ws.onmessage = this._make_on_message_function(this);\n\n    this.ondownload = ondownload;\n};\n\nmpl.figure.prototype._init_header = function () {\n    var titlebar = document.createElement('div');\n    titlebar.classList =\n        'ui-dialog-titlebar ui-widget-header ui-corner-all ui-helper-clearfix';\n    var titletext = document.createElement('div');\n    titletext.classList = 'ui-dialog-title';\n    titletext.setAttribute(\n        'style',\n        'width: 100%; text-align: center; padding: 3px;'\n    );\n    titlebar.appendChild(titletext);\n    this.root.appendChild(titlebar);\n    this.header = titletext;\n};\n\nmpl.figure.prototype._canvas_extra_style = function (_canvas_div) {};\n\nmpl.figure.prototype._root_extra_style = function (_canvas_div) {};\n\nmpl.figure.prototype._init_canvas = function () {\n    var fig = this;\n\n    var canvas_div = (this.canvas_div = document.createElement('div'));\n    canvas_div.setAttribute('tabindex', '0');\n    canvas_div.setAttribute(\n        'style',\n        'border: 1px solid #ddd;' +\n            'box-sizing: content-box;' +\n            'clear: both;' +\n            'min-height: 1px;' +\n            'min-width: 1px;' +\n            'outline: 0;' +\n            'overflow: hidden;' +\n            'position: relative;' +\n            'resize: both;' +\n            'z-index: 2;'\n    );\n\n    function on_keyboard_event_closure(name) {\n        return function (event) {\n            return fig.key_event(event, name);\n        };\n    }\n\n    canvas_div.addEventListener(\n        'keydown',\n        on_keyboard_event_closure('key_press')\n    );\n    canvas_div.addEventListener(\n        'keyup',\n        on_keyboard_event_closure('key_release')\n    );\n\n    this._canvas_extra_style(canvas_div);\n    this.root.appendChild(canvas_div);\n\n    var canvas = (this.canvas = document.createElement('canvas'));\n    canvas.classList.add('mpl-canvas');\n    canvas.setAttribute(\n        'style',\n        'box-sizing: content-box;' +\n            'pointer-events: none;' +\n            'position: relative;' +\n            'z-index: 0;'\n    );\n\n    this.context = canvas.getContext('2d');\n\n    var backingStore =\n        this.context.backingStorePixelRatio ||\n        this.context.webkitBackingStorePixelRatio ||\n        this.context.mozBackingStorePixelRatio ||\n        this.context.msBackingStorePixelRatio ||\n        this.context.oBackingStorePixelRatio ||\n        this.context.backingStorePixelRatio ||\n        1;\n\n    this.ratio = (window.devicePixelRatio || 1) / backingStore;\n\n    var rubberband_canvas = (this.rubberband_canvas = document.createElement(\n        'canvas'\n    ));\n    rubberband_canvas.setAttribute(\n        'style',\n        'box-sizing: content-box;' +\n            'left: 0;' +\n            'pointer-events: none;' +\n            'position: absolute;' +\n            'top: 0;' +\n            'z-index: 1;'\n    );\n\n    // Apply a ponyfill if ResizeObserver is not implemented by browser.\n    if (this.ResizeObserver === undefined) {\n        if (window.ResizeObserver !== undefined) {\n            this.ResizeObserver = window.ResizeObserver;\n        } else {\n            var obs = _JSXTOOLS_RESIZE_OBSERVER({});\n            this.ResizeObserver = obs.ResizeObserver;\n        }\n    }\n\n    this.resizeObserverInstance = new this.ResizeObserver(function (entries) {\n        var nentries = entries.length;\n        for (var i = 0; i < nentries; i++) {\n            var entry = entries[i];\n            var width, height;\n            if (entry.contentBoxSize) {\n                if (entry.contentBoxSize instanceof Array) {\n                    // Chrome 84 implements new version of spec.\n                    width = entry.contentBoxSize[0].inlineSize;\n                    height = entry.contentBoxSize[0].blockSize;\n                } else {\n                    // Firefox implements old version of spec.\n                    width = entry.contentBoxSize.inlineSize;\n                    height = entry.contentBoxSize.blockSize;\n                }\n            } else {\n                // Chrome <84 implements even older version of spec.\n                width = entry.contentRect.width;\n                height = entry.contentRect.height;\n            }\n\n            // Keep the size of the canvas and rubber band canvas in sync with\n            // the canvas container.\n            if (entry.devicePixelContentBoxSize) {\n                // Chrome 84 implements new version of spec.\n                canvas.setAttribute(\n                    'width',\n                    entry.devicePixelContentBoxSize[0].inlineSize\n                );\n                canvas.setAttribute(\n                    'height',\n                    entry.devicePixelContentBoxSize[0].blockSize\n                );\n            } else {\n                canvas.setAttribute('width', width * fig.ratio);\n                canvas.setAttribute('height', height * fig.ratio);\n            }\n            /* This rescales the canvas back to display pixels, so that it\n             * appears correct on HiDPI screens. */\n            canvas.style.width = width + 'px';\n            canvas.style.height = height + 'px';\n\n            rubberband_canvas.setAttribute('width', width);\n            rubberband_canvas.setAttribute('height', height);\n\n            // And update the size in Python. We ignore the initial 0/0 size\n            // that occurs as the element is placed into the DOM, which should\n            // otherwise not happen due to the minimum size styling.\n            if (fig.ws.readyState == 1 && width != 0 && height != 0) {\n                fig.request_resize(width, height);\n            }\n        }\n    });\n    this.resizeObserverInstance.observe(canvas_div);\n\n    function on_mouse_event_closure(name) {\n        /* User Agent sniffing is bad, but WebKit is busted:\n         * https://bugs.webkit.org/show_bug.cgi?id=144526\n         * https://bugs.webkit.org/show_bug.cgi?id=181818\n         * The worst that happens here is that they get an extra browser\n         * selection when dragging, if this check fails to catch them.\n         */\n        var UA = navigator.userAgent;\n        var isWebKit = /AppleWebKit/.test(UA) && !/Chrome/.test(UA);\n        if(isWebKit) {\n            return function (event) {\n                /* This prevents the web browser from automatically changing to\n                 * the text insertion cursor when the button is pressed. We\n                 * want to control all of the cursor setting manually through\n                 * the 'cursor' event from matplotlib */\n                event.preventDefault()\n                return fig.mouse_event(event, name);\n            };\n        } else {\n            return function (event) {\n                return fig.mouse_event(event, name);\n            };\n        }\n    }\n\n    canvas_div.addEventListener(\n        'mousedown',\n        on_mouse_event_closure('button_press')\n    );\n    canvas_div.addEventListener(\n        'mouseup',\n        on_mouse_event_closure('button_release')\n    );\n    canvas_div.addEventListener(\n        'dblclick',\n        on_mouse_event_closure('dblclick')\n    );\n    // Throttle sequential mouse events to 1 every 20ms.\n    canvas_div.addEventListener(\n        'mousemove',\n        on_mouse_event_closure('motion_notify')\n    );\n\n    canvas_div.addEventListener(\n        'mouseenter',\n        on_mouse_event_closure('figure_enter')\n    );\n    canvas_div.addEventListener(\n        'mouseleave',\n        on_mouse_event_closure('figure_leave')\n    );\n\n    canvas_div.addEventListener('wheel', function (event) {\n        if (event.deltaY < 0) {\n            event.step = 1;\n        } else {\n            event.step = -1;\n        }\n        on_mouse_event_closure('scroll')(event);\n    });\n\n    canvas_div.appendChild(canvas);\n    canvas_div.appendChild(rubberband_canvas);\n\n    this.rubberband_context = rubberband_canvas.getContext('2d');\n    this.rubberband_context.strokeStyle = '#000000';\n\n    this._resize_canvas = function (width, height, forward) {\n        if (forward) {\n            canvas_div.style.width = width + 'px';\n            canvas_div.style.height = height + 'px';\n        }\n    };\n\n    // Disable right mouse context menu.\n    canvas_div.addEventListener('contextmenu', function (_e) {\n        event.preventDefault();\n        return false;\n    });\n\n    function set_focus() {\n        canvas.focus();\n        canvas_div.focus();\n    }\n\n    window.setTimeout(set_focus, 100);\n};\n\nmpl.figure.prototype._init_toolbar = function () {\n    var fig = this;\n\n    var toolbar = document.createElement('div');\n    toolbar.classList = 'mpl-toolbar';\n    this.root.appendChild(toolbar);\n\n    function on_click_closure(name) {\n        return function (_event) {\n            return fig.toolbar_button_onclick(name);\n        };\n    }\n\n    function on_mouseover_closure(tooltip) {\n        return function (event) {\n            if (!event.currentTarget.disabled) {\n                return fig.toolbar_button_onmouseover(tooltip);\n            }\n        };\n    }\n\n    fig.buttons = {};\n    var buttonGroup = document.createElement('div');\n    buttonGroup.classList = 'mpl-button-group';\n    for (var toolbar_ind in mpl.toolbar_items) {\n        var name = mpl.toolbar_items[toolbar_ind][0];\n        var tooltip = mpl.toolbar_items[toolbar_ind][1];\n        var image = mpl.toolbar_items[toolbar_ind][2];\n        var method_name = mpl.toolbar_items[toolbar_ind][3];\n\n        if (!name) {\n            /* Instead of a spacer, we start a new button group. */\n            if (buttonGroup.hasChildNodes()) {\n                toolbar.appendChild(buttonGroup);\n            }\n            buttonGroup = document.createElement('div');\n            buttonGroup.classList = 'mpl-button-group';\n            continue;\n        }\n\n        var button = (fig.buttons[name] = document.createElement('button'));\n        button.classList = 'mpl-widget';\n        button.setAttribute('role', 'button');\n        button.setAttribute('aria-disabled', 'false');\n        button.addEventListener('click', on_click_closure(method_name));\n        button.addEventListener('mouseover', on_mouseover_closure(tooltip));\n\n        var icon_img = document.createElement('img');\n        icon_img.src = '_images/' + image + '.png';\n        icon_img.srcset = '_images/' + image + '_large.png 2x';\n        icon_img.alt = tooltip;\n        button.appendChild(icon_img);\n\n        buttonGroup.appendChild(button);\n    }\n\n    if (buttonGroup.hasChildNodes()) {\n        toolbar.appendChild(buttonGroup);\n    }\n\n    var fmt_picker = document.createElement('select');\n    fmt_picker.classList = 'mpl-widget';\n    toolbar.appendChild(fmt_picker);\n    this.format_dropdown = fmt_picker;\n\n    for (var ind in mpl.extensions) {\n        var fmt = mpl.extensions[ind];\n        var option = document.createElement('option');\n        option.selected = fmt === mpl.default_extension;\n        option.innerHTML = fmt;\n        fmt_picker.appendChild(option);\n    }\n\n    var status_bar = document.createElement('span');\n    status_bar.classList = 'mpl-message';\n    toolbar.appendChild(status_bar);\n    this.message = status_bar;\n};\n\nmpl.figure.prototype.request_resize = function (x_pixels, y_pixels) {\n    // Request matplotlib to resize the figure. Matplotlib will then trigger a resize in the client,\n    // which will in turn request a refresh of the image.\n    this.send_message('resize', { width: x_pixels, height: y_pixels });\n};\n\nmpl.figure.prototype.send_message = function (type, properties) {\n    properties['type'] = type;\n    properties['figure_id'] = this.id;\n    this.ws.send(JSON.stringify(properties));\n};\n\nmpl.figure.prototype.send_draw_message = function () {\n    if (!this.waiting) {\n        this.waiting = true;\n        this.ws.send(JSON.stringify({ type: 'draw', figure_id: this.id }));\n    }\n};\n\nmpl.figure.prototype.handle_save = function (fig, _msg) {\n    var format_dropdown = fig.format_dropdown;\n    var format = format_dropdown.options[format_dropdown.selectedIndex].value;\n    fig.ondownload(fig, format);\n};\n\nmpl.figure.prototype.handle_resize = function (fig, msg) {\n    var size = msg['size'];\n    if (size[0] !== fig.canvas.width || size[1] !== fig.canvas.height) {\n        fig._resize_canvas(size[0], size[1], msg['forward']);\n        fig.send_message('refresh', {});\n    }\n};\n\nmpl.figure.prototype.handle_rubberband = function (fig, msg) {\n    var x0 = msg['x0'] / fig.ratio;\n    var y0 = (fig.canvas.height - msg['y0']) / fig.ratio;\n    var x1 = msg['x1'] / fig.ratio;\n    var y1 = (fig.canvas.height - msg['y1']) / fig.ratio;\n    x0 = Math.floor(x0) + 0.5;\n    y0 = Math.floor(y0) + 0.5;\n    x1 = Math.floor(x1) + 0.5;\n    y1 = Math.floor(y1) + 0.5;\n    var min_x = Math.min(x0, x1);\n    var min_y = Math.min(y0, y1);\n    var width = Math.abs(x1 - x0);\n    var height = Math.abs(y1 - y0);\n\n    fig.rubberband_context.clearRect(\n        0,\n        0,\n        fig.canvas.width / fig.ratio,\n        fig.canvas.height / fig.ratio\n    );\n\n    fig.rubberband_context.strokeRect(min_x, min_y, width, height);\n};\n\nmpl.figure.prototype.handle_figure_label = function (fig, msg) {\n    // Updates the figure title.\n    fig.header.textContent = msg['label'];\n};\n\nmpl.figure.prototype.handle_cursor = function (fig, msg) {\n    fig.canvas_div.style.cursor = msg['cursor'];\n};\n\nmpl.figure.prototype.handle_message = function (fig, msg) {\n    fig.message.textContent = msg['message'];\n};\n\nmpl.figure.prototype.handle_draw = function (fig, _msg) {\n    // Request the server to send over a new figure.\n    fig.send_draw_message();\n};\n\nmpl.figure.prototype.handle_image_mode = function (fig, msg) {\n    fig.image_mode = msg['mode'];\n};\n\nmpl.figure.prototype.handle_history_buttons = function (fig, msg) {\n    for (var key in msg) {\n        if (!(key in fig.buttons)) {\n            continue;\n        }\n        fig.buttons[key].disabled = !msg[key];\n        fig.buttons[key].setAttribute('aria-disabled', !msg[key]);\n    }\n};\n\nmpl.figure.prototype.handle_navigate_mode = function (fig, msg) {\n    if (msg['mode'] === 'PAN') {\n        fig.buttons['Pan'].classList.add('active');\n        fig.buttons['Zoom'].classList.remove('active');\n    } else if (msg['mode'] === 'ZOOM') {\n        fig.buttons['Pan'].classList.remove('active');\n        fig.buttons['Zoom'].classList.add('active');\n    } else {\n        fig.buttons['Pan'].classList.remove('active');\n        fig.buttons['Zoom'].classList.remove('active');\n    }\n};\n\nmpl.figure.prototype.updated_canvas_event = function () {\n    // Called whenever the canvas gets updated.\n    this.send_message('ack', {});\n};\n\n// A function to construct a web socket function for onmessage handling.\n// Called in the figure constructor.\nmpl.figure.prototype._make_on_message_function = function (fig) {\n    return function socket_on_message(evt) {\n        if (evt.data instanceof Blob) {\n            var img = evt.data;\n            if (img.type !== 'image/png') {\n                /* FIXME: We get \"Resource interpreted as Image but\n                 * transferred with MIME type text/plain:\" errors on\n                 * Chrome.  But how to set the MIME type?  It doesn't seem\n                 * to be part of the websocket stream */\n                img.type = 'image/png';\n            }\n\n            /* Free the memory for the previous frames */\n            if (fig.imageObj.src) {\n                (window.URL || window.webkitURL).revokeObjectURL(\n                    fig.imageObj.src\n                );\n            }\n\n            fig.imageObj.src = (window.URL || window.webkitURL).createObjectURL(\n                img\n            );\n            fig.updated_canvas_event();\n            fig.waiting = false;\n            return;\n        } else if (\n            typeof evt.data === 'string' &&\n            evt.data.slice(0, 21) === 'data:image/png;base64'\n        ) {\n            fig.imageObj.src = evt.data;\n            fig.updated_canvas_event();\n            fig.waiting = false;\n            return;\n        }\n\n        var msg = JSON.parse(evt.data);\n        var msg_type = msg['type'];\n\n        // Call the  \"handle_{type}\" callback, which takes\n        // the figure and JSON message as its only arguments.\n        try {\n            var callback = fig['handle_' + msg_type];\n        } catch (e) {\n            console.log(\n                \"No handler for the '\" + msg_type + \"' message type: \",\n                msg\n            );\n            return;\n        }\n\n        if (callback) {\n            try {\n                // console.log(\"Handling '\" + msg_type + \"' message: \", msg);\n                callback(fig, msg);\n            } catch (e) {\n                console.log(\n                    \"Exception inside the 'handler_\" + msg_type + \"' callback:\",\n                    e,\n                    e.stack,\n                    msg\n                );\n            }\n        }\n    };\n};\n\nfunction getModifiers(event) {\n    var mods = [];\n    if (event.ctrlKey) {\n        mods.push('ctrl');\n    }\n    if (event.altKey) {\n        mods.push('alt');\n    }\n    if (event.shiftKey) {\n        mods.push('shift');\n    }\n    if (event.metaKey) {\n        mods.push('meta');\n    }\n    return mods;\n}\n\n/*\n * return a copy of an object with only non-object keys\n * we need this to avoid circular references\n * https://stackoverflow.com/a/24161582/3208463\n */\nfunction simpleKeys(original) {\n    return Object.keys(original).reduce(function (obj, key) {\n        if (typeof original[key] !== 'object') {\n            obj[key] = original[key];\n        }\n        return obj;\n    }, {});\n}\n\nmpl.figure.prototype.mouse_event = function (event, name) {\n    if (name === 'button_press') {\n        this.canvas.focus();\n        this.canvas_div.focus();\n    }\n\n    // from https://stackoverflow.com/q/1114465\n    var boundingRect = this.canvas.getBoundingClientRect();\n    var x = (event.clientX - boundingRect.left) * this.ratio;\n    var y = (event.clientY - boundingRect.top) * this.ratio;\n\n    this.send_message(name, {\n        x: x,\n        y: y,\n        button: event.button,\n        step: event.step,\n        modifiers: getModifiers(event),\n        guiEvent: simpleKeys(event),\n    });\n\n    return false;\n};\n\nmpl.figure.prototype._key_event_extra = function (_event, _name) {\n    // Handle any extra behaviour associated with a key event\n};\n\nmpl.figure.prototype.key_event = function (event, name) {\n    // Prevent repeat events\n    if (name === 'key_press') {\n        if (event.key === this._key) {\n            return;\n        } else {\n            this._key = event.key;\n        }\n    }\n    if (name === 'key_release') {\n        this._key = null;\n    }\n\n    var value = '';\n    if (event.ctrlKey && event.key !== 'Control') {\n        value += 'ctrl+';\n    }\n    else if (event.altKey && event.key !== 'Alt') {\n        value += 'alt+';\n    }\n    else if (event.shiftKey && event.key !== 'Shift') {\n        value += 'shift+';\n    }\n\n    value += 'k' + event.key;\n\n    this._key_event_extra(event, name);\n\n    this.send_message(name, { key: value, guiEvent: simpleKeys(event) });\n    return false;\n};\n\nmpl.figure.prototype.toolbar_button_onclick = function (name) {\n    if (name === 'download') {\n        this.handle_save(this, null);\n    } else {\n        this.send_message('toolbar_button', { name: name });\n    }\n};\n\nmpl.figure.prototype.toolbar_button_onmouseover = function (tooltip) {\n    this.message.textContent = tooltip;\n};\n\n///////////////// REMAINING CONTENT GENERATED BY embed_js.py /////////////////\n// prettier-ignore\nvar _JSXTOOLS_RESIZE_OBSERVER=function(A){var t,i=new WeakMap,n=new WeakMap,a=new WeakMap,r=new WeakMap,o=new Set;function s(e){if(!(this instanceof s))throw new TypeError(\"Constructor requires 'new' operator\");i.set(this,e)}function h(){throw new TypeError(\"Function is not a constructor\")}function c(e,t,i,n){e=0 in arguments?Number(arguments[0]):0,t=1 in arguments?Number(arguments[1]):0,i=2 in arguments?Number(arguments[2]):0,n=3 in arguments?Number(arguments[3]):0,this.right=(this.x=this.left=e)+(this.width=i),this.bottom=(this.y=this.top=t)+(this.height=n),Object.freeze(this)}function d(){t=requestAnimationFrame(d);var s=new WeakMap,p=new Set;o.forEach((function(t){r.get(t).forEach((function(i){var r=t instanceof window.SVGElement,o=a.get(t),d=r?0:parseFloat(o.paddingTop),f=r?0:parseFloat(o.paddingRight),l=r?0:parseFloat(o.paddingBottom),u=r?0:parseFloat(o.paddingLeft),g=r?0:parseFloat(o.borderTopWidth),m=r?0:parseFloat(o.borderRightWidth),w=r?0:parseFloat(o.borderBottomWidth),b=u+f,F=d+l,v=(r?0:parseFloat(o.borderLeftWidth))+m,W=g+w,y=r?0:t.offsetHeight-W-t.clientHeight,E=r?0:t.offsetWidth-v-t.clientWidth,R=b+v,z=F+W,M=r?t.width:parseFloat(o.width)-R-E,O=r?t.height:parseFloat(o.height)-z-y;if(n.has(t)){var k=n.get(t);if(k[0]===M&&k[1]===O)return}n.set(t,[M,O]);var S=Object.create(h.prototype);S.target=t,S.contentRect=new c(u,d,M,O),s.has(i)||(s.set(i,[]),p.add(i)),s.get(i).push(S)}))})),p.forEach((function(e){i.get(e).call(e,s.get(e),e)}))}return s.prototype.observe=function(i){if(i instanceof window.Element){r.has(i)||(r.set(i,new Set),o.add(i),a.set(i,window.getComputedStyle(i)));var n=r.get(i);n.has(this)||n.add(this),cancelAnimationFrame(t),t=requestAnimationFrame(d)}},s.prototype.unobserve=function(i){if(i instanceof window.Element&&r.has(i)){var n=r.get(i);n.has(this)&&(n.delete(this),n.size||(r.delete(i),o.delete(i))),n.size||r.delete(i),o.size||cancelAnimationFrame(t)}},A.DOMRectReadOnly=c,A.ResizeObserver=s,A.ResizeObserverEntry=h,A}; // eslint-disable-line\nmpl.toolbar_items = [[\"Home\", \"Reset original view\", \"fa fa-home\", \"home\"], [\"Back\", \"Back to previous view\", \"fa fa-arrow-left\", \"back\"], [\"Forward\", \"Forward to next view\", \"fa fa-arrow-right\", \"forward\"], [\"\", \"\", \"\", \"\"], [\"Pan\", \"Left button pans, Right button zooms\\nx/y fixes axis, CTRL fixes aspect\", \"fa fa-arrows\", \"pan\"], [\"Zoom\", \"Zoom to rectangle\\nx/y fixes axis\", \"fa fa-square-o\", \"zoom\"], [\"\", \"\", \"\", \"\"], [\"Download\", \"Download plot\", \"fa fa-floppy-o\", \"download\"]];\n\nmpl.extensions = [\"eps\", \"jpeg\", \"pgf\", \"pdf\", \"png\", \"ps\", \"raw\", \"svg\", \"tif\", \"webp\"];\n\nmpl.default_extension = \"png\";/* global mpl */\n\nvar comm_websocket_adapter = function (comm) {\n    // Create a \"websocket\"-like object which calls the given IPython comm\n    // object with the appropriate methods. Currently this is a non binary\n    // socket, so there is still some room for performance tuning.\n    var ws = {};\n\n    ws.binaryType = comm.kernel.ws.binaryType;\n    ws.readyState = comm.kernel.ws.readyState;\n    function updateReadyState(_event) {\n        if (comm.kernel.ws) {\n            ws.readyState = comm.kernel.ws.readyState;\n        } else {\n            ws.readyState = 3; // Closed state.\n        }\n    }\n    comm.kernel.ws.addEventListener('open', updateReadyState);\n    comm.kernel.ws.addEventListener('close', updateReadyState);\n    comm.kernel.ws.addEventListener('error', updateReadyState);\n\n    ws.close = function () {\n        comm.close();\n    };\n    ws.send = function (m) {\n        //console.log('sending', m);\n        comm.send(m);\n    };\n    // Register the callback with on_msg.\n    comm.on_msg(function (msg) {\n        //console.log('receiving', msg['content']['data'], msg);\n        var data = msg['content']['data'];\n        if (data['blob'] !== undefined) {\n            data = {\n                data: new Blob(msg['buffers'], { type: data['blob'] }),\n            };\n        }\n        // Pass the mpl event to the overridden (by mpl) onmessage function.\n        ws.onmessage(data);\n    });\n    return ws;\n};\n\nmpl.mpl_figure_comm = function (comm, msg) {\n    // This is the function which gets called when the mpl process\n    // starts-up an IPython Comm through the \"matplotlib\" channel.\n\n    var id = msg.content.data.id;\n    // Get hold of the div created by the display call when the Comm\n    // socket was opened in Python.\n    var element = document.getElementById(id);\n    var ws_proxy = comm_websocket_adapter(comm);\n\n    function ondownload(figure, _format) {\n        window.open(figure.canvas.toDataURL());\n    }\n\n    var fig = new mpl.figure(id, ws_proxy, ondownload, element);\n\n    // Call onopen now - mpl needs it, as it is assuming we've passed it a real\n    // web socket which is closed, not our websocket->open comm proxy.\n    ws_proxy.onopen();\n\n    fig.parent_element = element;\n    fig.cell_info = mpl.find_output_cell(\"<div id='\" + id + \"'></div>\");\n    if (!fig.cell_info) {\n        console.error('Failed to find cell for figure', id, fig);\n        return;\n    }\n    fig.cell_info[0].output_area.element.on(\n        'cleared',\n        { fig: fig },\n        fig._remove_fig_handler\n    );\n};\n\nmpl.figure.prototype.handle_close = function (fig, msg) {\n    var width = fig.canvas.width / fig.ratio;\n    fig.cell_info[0].output_area.element.off(\n        'cleared',\n        fig._remove_fig_handler\n    );\n    fig.resizeObserverInstance.unobserve(fig.canvas_div);\n\n    // Update the output cell to use the data from the current canvas.\n    fig.push_to_output();\n    var dataURL = fig.canvas.toDataURL();\n    // Re-enable the keyboard manager in IPython - without this line, in FF,\n    // the notebook keyboard shortcuts fail.\n    IPython.keyboard_manager.enable();\n    fig.parent_element.innerHTML =\n        '<img src=\"' + dataURL + '\" width=\"' + width + '\">';\n    fig.close_ws(fig, msg);\n};\n\nmpl.figure.prototype.close_ws = function (fig, msg) {\n    fig.send_message('closing', msg);\n    // fig.ws.close()\n};\n\nmpl.figure.prototype.push_to_output = function (_remove_interactive) {\n    // Turn the data on the canvas into data in the output cell.\n    var width = this.canvas.width / this.ratio;\n    var dataURL = this.canvas.toDataURL();\n    this.cell_info[1]['text/html'] =\n        '<img src=\"' + dataURL + '\" width=\"' + width + '\">';\n};\n\nmpl.figure.prototype.updated_canvas_event = function () {\n    // Tell IPython that the notebook contents must change.\n    IPython.notebook.set_dirty(true);\n    this.send_message('ack', {});\n    var fig = this;\n    // Wait a second, then push the new image to the DOM so\n    // that it is saved nicely (might be nice to debounce this).\n    setTimeout(function () {\n        fig.push_to_output();\n    }, 1000);\n};\n\nmpl.figure.prototype._init_toolbar = function () {\n    var fig = this;\n\n    var toolbar = document.createElement('div');\n    toolbar.classList = 'btn-toolbar';\n    this.root.appendChild(toolbar);\n\n    function on_click_closure(name) {\n        return function (_event) {\n            return fig.toolbar_button_onclick(name);\n        };\n    }\n\n    function on_mouseover_closure(tooltip) {\n        return function (event) {\n            if (!event.currentTarget.disabled) {\n                return fig.toolbar_button_onmouseover(tooltip);\n            }\n        };\n    }\n\n    fig.buttons = {};\n    var buttonGroup = document.createElement('div');\n    buttonGroup.classList = 'btn-group';\n    var button;\n    for (var toolbar_ind in mpl.toolbar_items) {\n        var name = mpl.toolbar_items[toolbar_ind][0];\n        var tooltip = mpl.toolbar_items[toolbar_ind][1];\n        var image = mpl.toolbar_items[toolbar_ind][2];\n        var method_name = mpl.toolbar_items[toolbar_ind][3];\n\n        if (!name) {\n            /* Instead of a spacer, we start a new button group. */\n            if (buttonGroup.hasChildNodes()) {\n                toolbar.appendChild(buttonGroup);\n            }\n            buttonGroup = document.createElement('div');\n            buttonGroup.classList = 'btn-group';\n            continue;\n        }\n\n        button = fig.buttons[name] = document.createElement('button');\n        button.classList = 'btn btn-default';\n        button.href = '#';\n        button.title = name;\n        button.innerHTML = '<i class=\"fa ' + image + ' fa-lg\"></i>';\n        button.addEventListener('click', on_click_closure(method_name));\n        button.addEventListener('mouseover', on_mouseover_closure(tooltip));\n        buttonGroup.appendChild(button);\n    }\n\n    if (buttonGroup.hasChildNodes()) {\n        toolbar.appendChild(buttonGroup);\n    }\n\n    // Add the status bar.\n    var status_bar = document.createElement('span');\n    status_bar.classList = 'mpl-message pull-right';\n    toolbar.appendChild(status_bar);\n    this.message = status_bar;\n\n    // Add the close button to the window.\n    var buttongrp = document.createElement('div');\n    buttongrp.classList = 'btn-group inline pull-right';\n    button = document.createElement('button');\n    button.classList = 'btn btn-mini btn-primary';\n    button.href = '#';\n    button.title = 'Stop Interaction';\n    button.innerHTML = '<i class=\"fa fa-power-off icon-remove icon-large\"></i>';\n    button.addEventListener('click', function (_evt) {\n        fig.handle_close(fig, {});\n    });\n    button.addEventListener(\n        'mouseover',\n        on_mouseover_closure('Stop Interaction')\n    );\n    buttongrp.appendChild(button);\n    var titlebar = this.root.querySelector('.ui-dialog-titlebar');\n    titlebar.insertBefore(buttongrp, titlebar.firstChild);\n};\n\nmpl.figure.prototype._remove_fig_handler = function (event) {\n    var fig = event.data.fig;\n    if (event.target !== this) {\n        // Ignore bubbled events from children.\n        return;\n    }\n    fig.close_ws(fig, {});\n};\n\nmpl.figure.prototype._root_extra_style = function (el) {\n    el.style.boxSizing = 'content-box'; // override notebook setting of border-box.\n};\n\nmpl.figure.prototype._canvas_extra_style = function (el) {\n    // this is important to make the div 'focusable\n    el.setAttribute('tabindex', 0);\n    // reach out to IPython and tell the keyboard manager to turn it's self\n    // off when our div gets focus\n\n    // location in version 3\n    if (IPython.notebook.keyboard_manager) {\n        IPython.notebook.keyboard_manager.register_events(el);\n    } else {\n        // location in version 2\n        IPython.keyboard_manager.register_events(el);\n    }\n};\n\nmpl.figure.prototype._key_event_extra = function (event, _name) {\n    // Check for shift+enter\n    if (event.shiftKey && event.which === 13) {\n        this.canvas_div.blur();\n        // select the cell after this one\n        var index = IPython.notebook.find_cell_index(this.cell_info[0]);\n        IPython.notebook.select(index + 1);\n    }\n};\n\nmpl.figure.prototype.handle_save = function (fig, _msg) {\n    fig.ondownload(fig, null);\n};\n\nmpl.find_output_cell = function (html_output) {\n    // Return the cell and output element which can be found *uniquely* in the notebook.\n    // Note - this is a bit hacky, but it is done because the \"notebook_saving.Notebook\"\n    // IPython event is triggered only after the cells have been serialised, which for\n    // our purposes (turning an active figure into a static one), is too late.\n    var cells = IPython.notebook.get_cells();\n    var ncells = cells.length;\n    for (var i = 0; i < ncells; i++) {\n        var cell = cells[i];\n        if (cell.cell_type === 'code') {\n            for (var j = 0; j < cell.output_area.outputs.length; j++) {\n                var data = cell.output_area.outputs[j];\n                if (data.data) {\n                    // IPython >= 3 moved mimebundle to data attribute of output\n                    data = data.data;\n                }\n                if (data['text/html'] === html_output) {\n                    return [cell, data, j];\n                }\n            }\n        }\n    }\n};\n\n// Register the function which deals with the matplotlib target/channel.\n// The kernel may be null if the page has been refreshed.\nif (IPython.notebook.kernel !== null) {\n    IPython.notebook.kernel.comm_manager.register_target(\n        'matplotlib',\n        mpl.mpl_figure_comm\n    );\n}\n"
     },
     "metadata": {},
     "output_type": "display_data"
    },
    {
     "data": {
      "text/plain": "<IPython.core.display.HTML object>",
      "text/html": "<div id='68b4588e-c735-4c2b-bf1d-f9dc2308a3f9'></div>"
     },
     "metadata": {},
     "output_type": "display_data"
    }
   ],
   "source": [
    "%matplotlib notebook\n",
    "import numpy as np\n",
    "import matplotlib.pyplot as plt\n",
    "\n",
    "# define function f(x)\n",
    "def f(x):\n",
    "    return 5*(x-1)**2\n",
    "\n",
    "# define x and y\n",
    "x = np.linspace(-20, 20, 100) # 100 equally spaced points on interval [-20,20]\n",
    "y = f(x) # call function f(x) and set y to the function's return value\n",
    "# Plot the function y=f(x)\n",
    "plt.close()\n",
    "plt.figure(figsize=(5,5))\n",
    "plt.plot(x,y)\n",
    "plt.xlabel('x')\n",
    "plt.ylabel('y')\n",
    "plt.title('$y=5(x-1)^2$')\n",
    "plt.show()"
   ]
  },
  {
   "cell_type": "markdown",
   "metadata": {
    "pycharm": {
     "name": "#%% md\n"
    }
   },
   "source": [
    "### Practice Question\n",
    "Plot one concave and one non-concave function of your choosing (preferably one in 2 dimensions and the other in 3 dimensions so that it can be visualised, check e.g. [this tutorial](https://matplotlib.org/2.0.2/mpl_toolkits/mplot3d/tutorial.html) for hints). Provide their formulas below.\n",
    "\n",
    "*Hint: an interesting and well-known function is [Rosenbrock function].(https://en.wikipedia.org/wiki/Rosenbrock_function)* It is already built-in to [Scipy optimize](https://docs.scipy.org/doc/scipy/reference/optimize.html#benchmark-problems) as a benchmark. *You can keep your answer simple and don't need to spend too much time on this practice question.*"
   ]
  },
  {
   "cell_type": "code",
   "execution_count": 1,
   "metadata": {
    "pycharm": {
     "name": "#%%\n"
    }
   },
   "outputs": [
    {
     "data": {
      "text/plain": "<Figure size 500x500 with 1 Axes>",
      "image/png": "[encoded data removed]"
     },
     "metadata": {},
     "output_type": "display_data"
    },
    {
     "data": {
      "text/plain": "<Figure size 500x500 with 1 Axes>",
      "image/png": "[encoded data removed]"
     },
     "metadata": {},
     "output_type": "display_data"
    }
   ],
   "source": [
    "''' Answer as code here '''\n",
    "import numpy as np\n",
    "import matplotlib.pyplot as plt\n",
    "\n",
    "# define function f(x)\n",
    "def concave(x):\n",
    "    return -x**2\n",
    "\n",
    "def convex(x1, x2):\n",
    "    return x1**2 + x2**2\n",
    "\n",
    "# define x and y\n",
    "x = np.linspace(-20, 20, 100) # 100 equally spaced points on interval [-20,20]\n",
    "x1 = np.linspace(-6, 6, 30)\n",
    "x2 = np.linspace(-6, 6, 30)\n",
    "\n",
    "X1, X2 = np.meshgrid(x1, x2)\n",
    "Y = convex(X1,X2)\n",
    "# Plot the function y=f(x)\n",
    "plt.figure(figsize=(5,5))\n",
    "plt.plot(x,concave(x))\n",
    "plt.xlabel('x')\n",
    "plt.ylabel('y')\n",
    "plt.title('$y=-x^2$')\n",
    "plt.show()\n",
    "fig = plt.figure(figsize=(5,5))\n",
    "ax = plt.axes(projection='3d')\n",
    "ax.contour3D(X1, X2, Y, 50, cmap='binary')\n",
    "ax.set_xlabel('x1')\n",
    "ax.set_ylabel('x2')\n",
    "ax.set_zlabel('y');\n",
    "plt.title('$y=x1^2 + x2^2$')\n",
    "plt.show()"
   ]
  },
  {
   "cell_type": "markdown",
   "metadata": {
    "pycharm": {
     "name": "#%% md\n"
    }
   },
   "source": [
    "**Answer as text here**\n",
    "The function $y = -x^2$ is a concave function with the epigraph plotted in the first figure.\n",
    "The function $y = x^TTx, x\\in\\mathbb{R}^2$ is a 2-d quadratic function (convex) with its epigraph plotted in the second figure."
   ]
  },
  {
   "cell_type": "markdown",
   "metadata": {
    "pycharm": {
     "name": "#%% md\n"
    }
   },
   "source": [
    "### Curiousity Question \n",
    "How would you determine whether a single or multi-variate continuously differentiable function is convex or not? \n",
    "> Note that the question becomes very tricky if you have a **parametric** multivariate polynomial of degree four or higher! \n",
    "\n",
    "> *[Optional]* An interesting paper (for those who wish to go deeper) http://web.mit.edu/~a_a_a/Public/Publications/convexity_nphard.pdf "
   ]
  },
  {
   "cell_type": "markdown",
   "metadata": {
    "pycharm": {
     "name": "#%% md\n"
    }
   },
   "source": [
    "**Answer as text here**\n",
    "Denote the degree of polynomial as d\n",
    "A general method is to check if its Hessian Matrix is PSD, since polynomials are always twice differentiable. However, checking if the second derivatives is PSD can be hard. Below are some practical methods to check convexity:\n",
    "- Case 1: d = 1\n",
    "    - It is a hyperplane/plane/line which is both convex and concave.\n",
    "- Case 2: d = 2:\n",
    "    - By checking if its Hessian Matrix is PSD;\n",
    "- Case 2: $d>1$ is an odd number\n",
    "    - The odd polynomials are non-convex.\n",
    "- Case 3: $d\\geq4$ and d is even:\n",
    "    - It is hard to examine the convexity in general. One naive way is to launch gradient descent algorithms with different initial points. If the values of convergence are not the same, it is non-convex."
   ]
  },
  {
   "cell_type": "markdown",
   "metadata": {
    "pycharm": {
     "name": "#%% md\n"
    }
   },
   "source": [
    "### Discussion Question \n",
    "Why are convex optimisation problems considered to be easy to solve? Consider optimality conditions of unconstrained functions in your answer. Plot the first- and second-order derivative functions for one concave and one non-concave function (this time only in 2 dimensions) to further support your argument."
   ]
  },
  {
   "cell_type": "markdown",
   "metadata": {
    "pycharm": {
     "name": "#%% md\n"
    }
   },
   "source": [
    "**Answer as text here**\n",
    "If the problem is convex/concave, the sufficient condition of a point $x^*$ being the global optimum is 1) first derivative $\\frac{\\partial f}{\\partial x^*} = 0$ if f is pointwise differentiable at $x^*$ or 2) subgradient $0\\in\\frac{\\partial f}{\\partial x^*}$ if f is not differentiable at $x^*$."
   ]
  },
  {
   "cell_type": "code",
   "execution_count": 6,
   "metadata": {
    "pycharm": {
     "name": "#%%\n"
    }
   },
   "outputs": [
    {
     "data": {
      "text/plain": "<Figure size 640x480 with 4 Axes>",
      "image/png": "[encoded data removed]"
     },
     "metadata": {},
     "output_type": "display_data"
    }
   ],
   "source": [
    "''' Answer as code here '''\n",
    "fig, axs = plt.subplots(4)\n",
    "axs[0].plot(x, 2*x)\n",
    "axs[0].set_title('1st dev of y=x^2')\n",
    "axs[1].plot(x, [2]*len(x), 'tab:orange')\n",
    "axs[1].set_title('2nd dev of y=x^2')\n",
    "axs[2].plot(x, -2*x, 'tab:green')\n",
    "axs[2].set_title('1st dev of y=-x^2')\n",
    "axs[3].plot(x, [-2]*len(x), 'tab:red')\n",
    "axs[3].set_title('2nd dev of y=-x^2')\n",
    "\n",
    "for ax in axs.flat:\n",
    "    ax.set(xlabel='x-label', ylabel='y-label')\n",
    "\n",
    "# Hide x labels and tick labels for top plots and y ticks for right plots.\n",
    "for ax in axs.flat:\n",
    "    ax.label_outer()"
   ]
  },
  {
   "cell_type": "markdown",
   "metadata": {
    "pycharm": {
     "name": "#%% md\n"
    }
   },
   "source": [
    "## Unconstrained Optimisation <a name=\"SectionUnconstrainedOptimisation\"></a>"
   ]
  },
  {
   "cell_type": "markdown",
   "metadata": {
    "pycharm": {
     "name": "#%% md\n"
    }
   },
   "source": [
    "### Example: Aloha communication protocol <a name=\"ExampleAlohacommunicationprotocol\"></a>\n",
    "\n",
    "![Wireless Network](img/wireless.jpg)\n",
    "\n",
    "**Aloha** is a well-known random access or _MAC_ (Media/multiple Access Control) communication protocol. It enables multiple nodes to share a broadcast channel without any additional signaling in a distributed manner. Unlike _FDMA_ or _TDMA_ (frequency or time-division multiple access), the channel is not divided into segments beforehand and collisions of packets due to simultaneous transmissions by nodes are allowed. In slotted Aloha, the nodes can only transmit at the beginning of time slots, which are kept by a global/shared clock. See [Aloha](https://en.wikipedia.org/wiki/ALOHAnet#Slotted_ALOHA) for further background information."
   ]
  },
  {
   "cell_type": "markdown",
   "metadata": {
    "pycharm": {
     "name": "#%% md\n"
    }
   },
   "source": [
    "### Slotted Aloha Efficiency <a name=\"SlottedAlohaEfficiency\"></a>\n",
    "\n",
    "For an $N$-node slotted Aloha system, where each node transmits with a probability $p$, the throughput of the system is given by\n",
    "$$ S(p) = N p (1-p)^{N-1}$$"
   ]
  },
  {
   "cell_type": "markdown",
   "metadata": {
    "pycharm": {
     "name": "#%% md\n"
    }
   },
   "source": [
    "### Question \n",
    "Formally define the optimisation problem to find the optimal probability $p$ that maximises the throughput. Clearly identify the objective and decision variable(s). Is the objective convex or concave? Show through derivation. Find the optimality conditions for this problem. \n",
    "\n",
    "Note that there is the constraint $0 \\leq p \\leq 1$ on probability $p$ but we will ignore it for now."
   ]
  },
  {
   "cell_type": "markdown",
   "metadata": {
    "pycharm": {
     "name": "#%% md\n"
    }
   },
   "source": [
    "**Answer as text here**\n",
    "1. The optimization problem formulation: $\\max_p S(p)$ s.t. $p\\in[0,1]$. The objective is to maximize the throughput $S(p)$ and the decision variable is $p$;\n",
    "2. We now show $S(p)$ is concave on $[0,1]$: $S^'(p) = N(1-p)^{N-1} - N(N-1)p(1-p)^{N-2}$ thus $S^''(p) = -N(N-1)(1-p)^{N-2} - N(1-p)^{N-2} + Np(1-p)^{N-3} = Np(1-p)^{N-3} - 2N(1-p)^{N-2} = N(1-p)^{N-3}(3p - 2))$\n",
    "\n"
   ]
  },
  {
   "cell_type": "markdown",
   "metadata": {
    "pycharm": {
     "name": "#%% md\n"
    }
   },
   "source": [
    "**Answer as text here**"
   ]
  },
  {
   "cell_type": "code",
   "execution_count": 12,
   "metadata": {
    "pycharm": {
     "name": "#%%\n"
    }
   },
   "outputs": [
    {
     "data": {
      "text/plain": "<Figure size 500x500 with 1 Axes>",
      "image/png": "[encoded data removed]"
     },
     "metadata": {},
     "output_type": "display_data"
    }
   ],
   "source": [
    "''' Answer as code here '''\n",
    "N = 10\n",
    "def s(p):\n",
    "    return N* np.multiply(p,1-p)**(N-1)\n",
    "\n",
    "prob = np.linspace(0, 1, 1000).flatten()\n",
    "# Plot the function y=f(x)\n",
    "plt.figure(figsize=(5,5))\n",
    "plt.plot(prob,s(prob))\n",
    "plt.xlabel('p')\n",
    "plt.ylabel('s(p)')\n",
    "plt.title('$y=-x^2$')\n",
    "plt.show()"
   ]
  },
  {
   "cell_type": "code",
   "execution_count": 11,
   "outputs": [
    {
     "ename": "TypeError",
     "evalue": "'numpy.ndarray' object is not callable",
     "output_type": "error",
     "traceback": [
      "\u001B[0;31m---------------------------------------------------------------------------\u001B[0m",
      "\u001B[0;31mTypeError\u001B[0m                                 Traceback (most recent call last)",
      "Cell \u001B[0;32mIn[11], line 1\u001B[0m\n\u001B[0;32m----> 1\u001B[0m \u001B[43ms\u001B[49m\u001B[43m(\u001B[49m\u001B[43mprob\u001B[49m\u001B[43m)\u001B[49m\n",
      "Cell \u001B[0;32mIn[10], line 4\u001B[0m, in \u001B[0;36ms\u001B[0;34m(p)\u001B[0m\n\u001B[1;32m      3\u001B[0m \u001B[38;5;28;01mdef\u001B[39;00m \u001B[38;5;21ms\u001B[39m(p):\n\u001B[0;32m----> 4\u001B[0m     \u001B[38;5;28;01mreturn\u001B[39;00m N\u001B[38;5;241m*\u001B[39m \u001B[43mp\u001B[49m\u001B[43m(\u001B[49m\u001B[38;5;241;43m1\u001B[39;49m\u001B[38;5;241;43m-\u001B[39;49m\u001B[43mp\u001B[49m\u001B[43m)\u001B[49m\u001B[38;5;241m*\u001B[39m\u001B[38;5;241m*\u001B[39m(N\u001B[38;5;241m-\u001B[39m\u001B[38;5;241m1\u001B[39m)\n",
      "\u001B[0;31mTypeError\u001B[0m: 'numpy.ndarray' object is not callable"
     ]
    }
   ],
   "source": [
    "s(prob)"
   ],
   "metadata": {
    "collapsed": false,
    "pycharm": {
     "name": "#%%\n"
    }
   }
  },
  {
   "cell_type": "markdown",
   "metadata": {
    "pycharm": {
     "name": "#%% md\n"
    }
   },
   "source": [
    "### Question \n",
    "Find the optimal probability $p$ for $N=12$ nodes. Use an appropriate package from [Scipy](https://docs.scipy.org/doc/scipy/reference/optimize.html). Cross-check your answer with a mathematical formula that you should derive by hand. \n",
    "\n",
    "*Hint: see [examples and documentation for scalar case.](https://docs.scipy.org/doc/scipy/reference/generated/scipy.optimize.minimize_scalar.html#scipy.optimize.minimize_scalar)*\n"
   ]
  },
  {
   "cell_type": "code",
   "execution_count": null,
   "metadata": {
    "pycharm": {
     "name": "#%%\n"
    }
   },
   "outputs": [],
   "source": [
    "from scipy import optimize\n",
    "''' Answer as code here '''"
   ]
  },
  {
   "cell_type": "markdown",
   "metadata": {
    "pycharm": {
     "name": "#%% md\n"
    }
   },
   "source": [
    "**Answer as text here**"
   ]
  },
  {
   "cell_type": "markdown",
   "metadata": {
    "pycharm": {
     "name": "#%% md\n"
    }
   },
   "source": [
    "## Constrained Optimisation <a name=\"SectionConstrainedOptimisation\"></a>"
   ]
  },
  {
   "cell_type": "markdown",
   "metadata": {
    "pycharm": {
     "name": "#%% md\n"
    }
   },
   "source": [
    "[Pyomo](http://www.pyomo.org/) is a Python-based tool for modeling and solving optimisation problems. Algebraic modeling languages (AMLs) like Pyomo are high-level languages for specifying and solving mathematical optimisation problems. Widely used commercial AMLs include AIMMS, AMPL, and GAMS. \n",
    "\n",
    "Pyomo uses the following mathematical concepts that are central to modern modeling activities:\n",
    "* Variables: These represent unknown or changing parts of a model (e.g., which decisions to take, or the characteristic of a system outcome).\n",
    "* Parameters: These are symbolic representations for real-world data, which might vary for different problem instances or scenarios.\n",
    "* Relations: These are equations, inequalities, or other mathematical relationships that define how different parts of a model are related to each other.\n",
    "\n",
    "Pyomo supports an object-oriented design for the definition of optimisation models.\n",
    "A Pyomo model object contains a collection of modeling components that define the optimisation problem. The Pyomo package includes modeling components that are necessary to formulate an optimisation problem: variables, objectives, and constraints, as well as other modeling components that are commonly supported by modern AMLs, including index sets and parameters.\n",
    "\n",
    "The [pyomo online documentation](https://pyomo.readthedocs.io/en/stable/index.html) gives you an excellent starting point. There is also an entire [book](https://www.springer.com/gp/book/9783319588193) for those who are interested.  \n",
    "\n",
    "**See the instructions to install Pyomo, based on [Pyomo's instructions using conda](https://pyomo.readthedocs.io/en/stable/installation.html#using-conda).**\n",
    "\n",
    "> **2021 Installation Problem for Windows:** Ipopt installation is a bit broken under Windows. All you need to do is copy the  ipopt.exe we have provided in files (originally from [pre-compiled sources, 3.11.1 64 or 32 bit version](https://www.coin-or.org/download/binary/Ipopt/)) and copy that to Anaconda's `\\Library\\bin` directory. This directory can be found using the command `where conda`. After copying ipopt.exe, close and reopen anaconda (and this notebook) before continuing.\n",
    "\n",
    "*Hint: to process Pyomo results, see [working with Pyomo models](https://pyomo.readthedocs.io/en/stable/working_models.html), e.g. you can [access Lagrange multipliers (duals)](https://pyomo.readthedocs.io/en/stable/working_models.html#accessing-duals) by passing an argument to solver.*\n",
    "\n",
    "**Suggested exercise:** verify your answer to Aloha optimisation above by formulating that problem as a Pyomo model."
   ]
  },
  {
   "cell_type": "markdown",
   "metadata": {
    "pycharm": {
     "name": "#%% md\n"
    }
   },
   "source": [
    "## Example: Non-Convex Optimisation\n",
    "\n",
    "The [Rosenbrock function](https://en.wikipedia.org/wiki/Rosenbrock_function) is a non-convex function, introduced by Howard H. Rosenbrock in 1960, which is used as a performance test problem for global optimisation algorithms. A two-variable, arbitrarily-constrained variant is\n",
    "\n",
    "$$ \\min_{x \\in \\mathcal A} f(x) = (1 − x_1)^2 + 100(x_2 -x_1^2)^2 ,$$\n",
    "where the constraint set is defined by\n",
    "$$ \\mathcal A := \\{ x \\in \\mathbb R^2 | x_2\\geq x_1+1,\\, x_1 \\in [-2, 3], x_2 \\in [-2, 2] \\}.$$\n",
    "\n",
    "Let us use the following abstract [Pyomo model](https://pyomo.readthedocs.io/en/stable/pyomo_overview/simple_examples.html) for this problem:"
   ]
  },
  {
   "cell_type": "code",
   "execution_count": 1,
   "metadata": {
    "pycharm": {
     "name": "#%%\n"
    }
   },
   "outputs": [],
   "source": [
    "# A Pyomo model for the Rosenbrock problem\n",
    "import pyomo.environ as pyo\n",
    "from pyomo.opt import SolverFactory\n",
    "\n",
    "model = pyo.AbstractModel()\n",
    "model.name = 'Rosenbrock'\n",
    "\n",
    "# note boundaries of variables and initial condition $x_0=[-2,2]$\n",
    "model.x1 = pyo.Var(bounds=(-2,3), initialize=-2)\n",
    "model.x2 = pyo.Var(bounds=(-2,2), initialize=2)\n",
    "\n",
    "def rosenbrock(model):\n",
    "    f = (1.0-model.x1)**2 + 100.0*(model.x2 - model.x1**2)**2\n",
    "    return f\n",
    "\n",
    "def ineqconstr(model):\n",
    "    return model.x2 >= model.x1+1\n",
    "\n",
    "model.obj = pyo.Objective(rule=rosenbrock, sense=pyo.minimize)\n",
    "model.constraint = pyo.Constraint(rule=ineqconstr)"
   ]
  },
  {
   "cell_type": "code",
   "execution_count": 10,
   "outputs": [
    {
     "name": "stdout",
     "output_type": "stream",
     "text": [
      "WARNING: Implicitly replacing the Component attribute A (type=<class\n",
      "    'pyomo.core.base.set.AbstractOrderedScalarSet'>) on block Rosenbrock with\n",
      "    a new Component (type=<class\n",
      "    'pyomo.core.base.set.AbstractOrderedScalarSet'>). This is usually\n",
      "    indicative of a modelling error. To avoid this warning, use\n",
      "    block.del_component() and block.add_component().\n",
      "A : Size=0, Index=None, Ordered=Insertion\n",
      "    Not constructed\n"
     ]
    }
   ],
   "source": [
    "model.A = pyo.Set(dimen=[3,3])\n",
    "model.A.pprint()"
   ],
   "metadata": {
    "collapsed": false,
    "pycharm": {
     "name": "#%%\n"
    }
   }
  },
  {
   "cell_type": "markdown",
   "metadata": {
    "pycharm": {
     "name": "#%% md\n"
    }
   },
   "source": [
    "This model can be solved in multiple different ways. Since this is a Pyomo AbstractModel, we must create a concrete instance of it before solving. "
   ]
  },
  {
   "cell_type": "code",
   "execution_count": 2,
   "metadata": {
    "pycharm": {
     "name": "#%%\n"
    }
   },
   "outputs": [
    {
     "name": "stdout",
     "output_type": "stream",
     "text": [
      "Ipopt 3.14.11: \n",
      "\n",
      "******************************************************************************\n",
      "This program contains Ipopt, a library for large-scale nonlinear optimization.\n",
      " Ipopt is released as open source code under the Eclipse Public License (EPL).\n",
      "         For more information visit https://github.com/coin-or/Ipopt\n",
      "******************************************************************************\n",
      "\n",
      "This is Ipopt version 3.14.11, running with linear solver MUMPS 5.2.1.\n",
      "\n",
      "Number of nonzeros in equality constraint Jacobian...:        0\n",
      "Number of nonzeros in inequality constraint Jacobian.:        2\n",
      "Number of nonzeros in Lagrangian Hessian.............:        3\n",
      "\n",
      "Total number of variables............................:        2\n",
      "                     variables with only lower bounds:        0\n",
      "                variables with lower and upper bounds:        2\n",
      "                     variables with only upper bounds:        0\n",
      "Total number of equality constraints.................:        0\n",
      "Total number of inequality constraints...............:        1\n",
      "        inequality constraints with only lower bounds:        0\n",
      "   inequality constraints with lower and upper bounds:        0\n",
      "        inequality constraints with only upper bounds:        1\n",
      "\n",
      "iter    objective    inf_pr   inf_du lg(mu)  ||d||  lg(rg) alpha_du alpha_pr  ls\n",
      "   0  3.8539564e+02 0.00e+00 7.18e+01  -1.0 0.00e+00    -  0.00e+00 0.00e+00   0\n",
      "   1  1.8868629e+02 0.00e+00 4.72e+01  -1.0 3.36e-01    -  7.74e-02 4.51e-01f  1\n",
      "   2  1.7159479e+01 0.00e+00 1.30e+01  -1.0 3.92e-01    -  1.00e+00 1.00e+00f  1\n",
      "   3  5.8057440e+00 0.00e+00 1.32e+00  -1.0 1.40e-01    -  1.00e+00 1.00e+00f  1\n",
      "   4  5.0855189e+00 0.00e+00 7.32e-01  -1.0 4.91e-01    -  9.68e-01 1.00e+00f  1\n",
      "   5  4.8934816e+00 0.00e+00 2.70e+00  -1.7 1.16e+00    -  7.84e-01 1.00e+00f  1\n",
      "   6  3.4544834e+00 0.00e+00 2.39e-01  -1.7 5.88e-02    -  1.00e+00 1.00e+00f  1\n",
      "   7  3.0701812e+00 0.00e+00 3.66e-01  -1.7 6.93e-01    -  1.00e+00 4.25e-01f  2\n",
      "   8  2.9179952e+00 0.00e+00 4.82e-02  -1.7 8.72e-02    -  1.00e+00 1.00e+00f  1\n",
      "   9  2.6637547e+00 0.00e+00 9.38e-02  -2.5 1.80e-01    -  1.00e+00 1.00e+00f  1\n",
      "iter    objective    inf_pr   inf_du lg(mu)  ||d||  lg(rg) alpha_du alpha_pr  ls\n",
      "  10  2.6578857e+00 0.00e+00 6.58e-04  -2.5 3.33e-03    -  1.00e+00 1.00e+00f  1\n",
      "  11  2.6153740e+00 0.00e+00 2.62e-03  -3.8 2.94e-02    -  1.00e+00 1.00e+00f  1\n",
      "  12  2.6152080e+00 0.00e+00 7.86e-07  -3.8 1.27e-04    -  1.00e+00 1.00e+00f  1\n",
      "  13  2.6128236e+00 0.00e+00 8.34e-06  -5.7 1.65e-03    -  1.00e+00 1.00e+00f  1\n",
      "  14  2.6127932e+00 0.00e+00 1.55e-09  -8.6 2.09e-05    -  1.00e+00 1.00e+00f  1\n",
      "\n",
      "Number of Iterations....: 14\n",
      "\n",
      "                                   (scaled)                 (unscaled)\n",
      "Objective...............:   1.6268949224800572e-01    2.6127932455029721e+00\n",
      "Dual infeasibility......:   1.5520480964686105e-09    2.4925892429285883e-08\n",
      "Constraint violation....:   0.0000000000000000e+00    0.0000000000000000e+00\n",
      "Variable bound violation:   0.0000000000000000e+00    0.0000000000000000e+00\n",
      "Complementarity.........:   2.5148969062185051e-09    4.0389244313869194e-08\n",
      "Overall NLP error.......:   2.5148969062185051e-09    4.0389244313869194e-08\n",
      "\n",
      "\n",
      "Number of objective function evaluations             = 20\n",
      "Number of objective gradient evaluations             = 15\n",
      "Number of equality constraint evaluations            = 0\n",
      "Number of inequality constraint evaluations          = 20\n",
      "Number of equality constraint Jacobian evaluations   = 0\n",
      "Number of inequality constraint Jacobian evaluations = 15\n",
      "Number of Lagrangian Hessian evaluations             = 14\n",
      "Total seconds in IPOPT                               = 0.017\n",
      "\n",
      "EXIT: Optimal Solution Found.\n"
     ]
    }
   ],
   "source": [
    "import io\n",
    " \n",
    "# declare a dummy file\n",
    "dummy_file = io.StringIO() #we create a in-memory text stream\n",
    "\n",
    "# create an instance of the problem\n",
    "arosenbrockproblem = model.create_instance()\n",
    "# this is to access Lagrange multipliers (dual variables)\n",
    "arosenbrockproblem.dual = pyo.Suffix(direction=pyo.Suffix.IMPORT)\n",
    "\n",
    "# define solver\n",
    "opt = pyo.SolverFactory('ipopt') # we can use other solvers here as well\n",
    "\n",
    "results = opt.solve(arosenbrockproblem, tee=True, logfile = \"name.csv\") \n",
    "\n",
    "# show results\n",
    "\n",
    "arosenbrockproblem.display(ostream=dummy_file)\n",
    "#arosenbrockproblem.display(filename=\"output_file\")  #alternatively write output to a file\n",
    "#help(arosenbrockproblem.display)"
   ]
  },
  {
   "cell_type": "code",
   "execution_count": null,
   "outputs": [],
   "source": [],
   "metadata": {
    "collapsed": false,
    "pycharm": {
     "name": "#%%\n"
    }
   }
  },
  {
   "cell_type": "code",
   "execution_count": null,
   "metadata": {
    "pycharm": {
     "name": "#%%\n"
    }
   },
   "outputs": [],
   "source": [
    "dummy_file.getvalue()"
   ]
  },
  {
   "cell_type": "code",
   "execution_count": null,
   "metadata": {
    "pycharm": {
     "name": "#%%\n"
    }
   },
   "outputs": [],
   "source": [
    "arosenbrockproblem.display()"
   ]
  },
  {
   "cell_type": "markdown",
   "metadata": {
    "pycharm": {
     "name": "#%% md\n"
    }
   },
   "source": [
    "Now, let's see the Lagrange multipliers."
   ]
  },
  {
   "cell_type": "code",
   "execution_count": 3,
   "metadata": {
    "pycharm": {
     "name": "#%%\n"
    }
   },
   "outputs": [
    {
     "name": "stdout",
     "output_type": "stream",
     "text": [
      "Duals\n",
      "   Constraint constraint\n",
      "       None -1.4485148520538937\n"
     ]
    }
   ],
   "source": [
    "def display_lagrange(instance):\n",
    "    # display all duals\n",
    "    print (\"Duals\")\n",
    "    for c in instance.component_objects(pyo.Constraint, active=True):\n",
    "        print (\"   Constraint\",c)\n",
    "        for index in c:\n",
    "            print (\"      \", index, instance.dual[c[index]])\n",
    "            \n",
    "display_lagrange(arosenbrockproblem)"
   ]
  },
  {
   "cell_type": "markdown",
   "metadata": {
    "pycharm": {
     "name": "#%% md\n"
    }
   },
   "source": [
    "Display the solution directly "
   ]
  },
  {
   "cell_type": "code",
   "execution_count": 4,
   "metadata": {
    "pycharm": {
     "name": "#%%\n"
    }
   },
   "outputs": [
    {
     "name": "stdout",
     "output_type": "stream",
     "text": [
      "x1 -0.6147903137877664\n",
      "x2 0.38520970405541305\n",
      "obj 2.612793245502972\n"
     ]
    },
    {
     "data": {
      "text/plain": "[-0.6147903137877664, 0.38520970405541305, 2.612793245502972]"
     },
     "execution_count": 4,
     "metadata": {},
     "output_type": "execute_result"
    }
   ],
   "source": [
    "def disp_soln(instance):\n",
    "    output = []\n",
    "    for v in instance.component_data_objects(pyo.Var, active=True):\n",
    "        output.append(pyo.value(v))\n",
    "        print(v, pyo.value(v))  \n",
    "    print (instance.obj, pyo.value(instance.obj))\n",
    "    output.append(pyo.value(instance.obj))\n",
    "    return output\n",
    "\n",
    "            \n",
    "disp_soln(arosenbrockproblem)"
   ]
  },
  {
   "cell_type": "code",
   "execution_count": 5,
   "metadata": {
    "pycharm": {
     "name": "#%%\n"
    }
   },
   "outputs": [
    {
     "data": {
      "text/plain": "{'Problem': [{'Lower bound': -inf, 'Upper bound': inf, 'Number of objectives': 1, 'Number of constraints': 1, 'Number of variables': 2, 'Sense': 'unknown'}], 'Solver': [{'Status': 'ok', 'Message': 'Ipopt 3.14.11\\\\x3a Optimal Solution Found', 'Termination condition': 'optimal', 'Id': 0, 'Error rc': 0, 'Time': 0.0989079475402832}], 'Solution': [OrderedDict([('number of solutions', 0), ('number of solutions displayed', 0)])]}"
     },
     "execution_count": 5,
     "metadata": {},
     "output_type": "execute_result"
    }
   ],
   "source": [
    "results"
   ]
  },
  {
   "cell_type": "markdown",
   "metadata": {
    "pycharm": {
     "name": "#%% md\n"
    }
   },
   "source": [
    "Since this is a non-convex optimisation problem, the solver can only find local solutions! What happens if we change the starting point to $x_0=[1.5, 1.5]$?"
   ]
  },
  {
   "cell_type": "code",
   "execution_count": null,
   "metadata": {
    "pycharm": {
     "name": "#%%\n"
    }
   },
   "outputs": [],
   "source": [
    "arosenbrockproblem.x1 = 1.5\n",
    "arosenbrockproblem.x2 = 1.5\n",
    "\n",
    "results = opt.solve(arosenbrockproblem) \n",
    "\n",
    "arosenbrockproblem.display()"
   ]
  },
  {
   "cell_type": "code",
   "execution_count": null,
   "metadata": {
    "pycharm": {
     "name": "#%%\n"
    }
   },
   "outputs": [],
   "source": [
    "display_lagrange(arosenbrockproblem)"
   ]
  },
  {
   "cell_type": "code",
   "execution_count": null,
   "metadata": {
    "pycharm": {
     "name": "#%%\n"
    }
   },
   "outputs": [],
   "source": [
    "disp_soln(arosenbrockproblem)"
   ]
  },
  {
   "cell_type": "code",
   "execution_count": null,
   "metadata": {
    "pycharm": {
     "name": "#%%\n"
    }
   },
   "outputs": [],
   "source": [
    "dir(arosenbrockproblem)"
   ]
  },
  {
   "cell_type": "markdown",
   "metadata": {
    "pycharm": {
     "name": "#%% md\n"
    }
   },
   "source": [
    "## Using random.seed() for pseudo-random number generation <a name=\"Usingrandomseedforpseudorandomnumbergeneration\"></a>\n",
    "\n",
    "We use Python or numpy random modules to generate random numbers or vectors/matrices. Random numbers and vectors are used a lot in various context, e.g. as asked above or in machine learning problems. They also cause a *reproducibility* problem. In this case, when your demonstrators run your code, they will get a different $\\alpha$ vector each time and the results will be different each time. How can we prevent that? Python *random.seed* addresses this problem. \n",
    "\n",
    "If you call *random.seed(seedvalue)* every time before calling the random number generator, you will get the same \"random\" number. Change the seed and the number will change as well. This makes it [pseudo-random](https://en.wikipedia.org/wiki/Pseudorandomness) which ensures reproducibility.\n",
    "\n",
    "[See this nice article for basics](https://pynative.com/python-random-seed/). To generate random vectors and matrices [numpy](https://docs.scipy.org/doc/numpy-1.15.1/reference/generated/numpy.random.seed.html#numpy.random.seed) is very useful. "
   ]
  },
  {
   "cell_type": "code",
   "execution_count": null,
   "metadata": {
    "pycharm": {
     "name": "#%%\n"
    }
   },
   "outputs": [],
   "source": [
    "import random\n",
    "import numpy as np\n",
    "\n",
    "print (\"Random numbers with a given seed\")\n",
    "random.seed(1215151)\n",
    "print (random.random())\n",
    "random.seed(1215151)\n",
    "print (random.random()) # same seed, same number!\n",
    "random.seed(1215151)\n",
    "print (random.random()) # same seed, same number!\n",
    "random.seed(5298496496)\n",
    "print (random.random()) # different seed, different number!\n",
    "random.seed(5298496496)\n",
    "print (random.random()) # repeat!\n",
    "\n",
    "print (random.random()) # no seed, purely random number\n",
    "print (random.random()) # no seed, purely random number\n",
    "\n",
    "np.random.seed(4198494)\n",
    "print(np.random.rand(3,2))\n",
    "np.random.seed(4198494)\n",
    "print(np.random.rand(3,2))\n",
    "# now without seed, most probaby it will be different!\n",
    "print(np.random.rand(3,2))"
   ]
  },
  {
   "cell_type": "markdown",
   "metadata": {
    "pycharm": {
     "name": "#%% md\n"
    }
   },
   "source": [
    "### Important Note on Random Number/Vector Generation <a name=\"ImportantNoteonRandomNumberVectorGeneration\"></a>\n",
    "\n",
    "**Each group has to use a different number seed (which is an arbitrary number as illustrated above) and groups cannot share seeds. The pseudo-randomness is used here to create diversity. Otherwise, if groups use the same seed, you would lose points in assessment**"
   ]
  },
  {
   "cell_type": "markdown",
   "metadata": {
    "pycharm": {
     "name": "#%% md\n"
    }
   },
   "source": [
    "## Example Economic Dispatch in Power Generation"
   ]
  },
  {
   "cell_type": "markdown",
   "metadata": {
    "pycharm": {
     "name": "#%% md\n"
    }
   },
   "source": [
    "The problem is formulated as\n",
    "$$ \\min_P \\sum_{i=1}^N c_i P_i $$\n",
    "$$\\text{subject to } P_{i,max} \\geq P_i \\geq 0, \\; \\forall i, \\text{ and } \\sum_{i=1}^N P_i = P_{demand} $$\n",
    "\n",
    "Here, $P_1,\\ldots P_N$ are the power generated by Generators $1,\\ldots,N$, $c_i$ is the per-unit generation cost of the i-_th_ generator, and $P_{demand}$ is the instantaneous power demand that needs to be satisfied by aggregate generation. More complex formulations take into account transmission, generator ramp-up and down constraints, and reactive power among other things."
   ]
  },
  {
   "cell_type": "markdown",
   "metadata": {
    "pycharm": {
     "name": "#%% md\n"
    }
   },
   "source": [
    "### Question: Economic Dispatch \n",
    "\n",
    "Let us get inspired from generation in Victoria with $N=12$ biggest generators that have more than 200MW capacity. Choose their maximum generation randomly or from the Victoria generator report if you wish to be more realistic. Generate a random cost vector $c$ varying between $10-50$ AUD per MWh (use a group-specific random seed). _(Optionally, you can search and find how much different generation types cost if you are interested and add a bit of random noise to it)._ Let the demand be $P_{demand}=5000MW$. \n",
    "\n",
    "Solve this simplified [economic dispatch](https://en.wikipedia.org/wiki/Economic_dispatch) problem defined above. The resulting [merit order](https://en.wikipedia.org/wiki/Merit_order) is the generation that would have been if there was no NEM (electricity market).\n",
    "\n",
    "\n",
    "\n",
    "1. Solve the problem using *Pyomo*.\n",
    "2. What type of an optimisation problem is this? Briefly explain.\n",
    "\n",
    "> Further information: you can find more about Australian wholesale electricity market and generation at https://www.aemo.com.au/ See also this [NEM overview introductory document (right click to download)](./files/National_Electricity_Market_Fact_Sheet.pdf) and the [Victoria generator report as of January 2019](files/Generation_Information_VIC_January_2019.xlsx).\n",
    "\n",
    "**Note:** *if you are in the minority of people who have problem installing pyomo, then you can use scipy or even Matlab.*\n"
   ]
  },
  {
   "cell_type": "markdown",
   "metadata": {
    "pycharm": {
     "name": "#%% md\n"
    }
   },
   "source": [
    "**Answer as text here**"
   ]
  },
  {
   "cell_type": "code",
   "execution_count": null,
   "metadata": {
    "pycharm": {
     "name": "#%%\n"
    }
   },
   "outputs": [],
   "source": [
    "''' Answer as code here '''"
   ]
  },
  {
   "cell_type": "markdown",
   "metadata": {
    "pycharm": {
     "name": "#%% md\n"
    }
   },
   "source": [
    "## Example: Waterfilling in Communications\n",
    "\n",
    "_by Robert Gowers, Roger Hill, Sami Al-Izzi, Timothy Pollington and Keith Briggs.\n",
    "From the book by Boyd and Vandenberghe, Convex Optimization, Example 5.2 page 245._\n",
    "\n",
    "$$\\min_{x} \\sum_{i=1}^N -\\log(\\alpha_i + x_i)$$ \n",
    "\n",
    "$$\\text{subject to } x_i \\geq 0, \\; \\forall i, \\text{ and } \\sum_{i=1}^N x_i = P $$\n",
    "\n",
    "This problem arises in information/communication theory, in allocating power to a\n",
    "set of $n$ communication channels. The variable $x_i$ represents the transmitter power\n",
    "allocated to the _i-th_ channel, and $\\log(\\alpha_i + x_i)$ gives the capacity or communication rate of the channel, where $\\alpha_i>0$ represents the floor above the baseline at which power can be added to the channel. The problem is to allocate a total power of one to the channels,\n",
    "in order to maximize the total communication rate.\n",
    "\n",
    "This can be solved using a classic [water filling algorithm](https://en.wikipedia.org/wiki/Water_filling_algorithm). \n",
    "\n",
    "![Waterfilling](img/waterfill.jpg)\n"
   ]
  },
  {
   "cell_type": "markdown",
   "metadata": {
    "pycharm": {
     "name": "#%% md\n"
    }
   },
   "source": [
    "###  Question \n",
    "\n",
    "1. Is the problem in the Example above convex? Formally explain/argue why or why not. What does this imply regarding the solution? \n",
    "2. Solve the problem above for $N=8$ and a randomly chosen $\\alpha$ vector (use a group-specific random seed). You *can* use Pyomo for this. Cross-check your answer with another software (package), e.g. Matlab or Scipy. \n",
    "3. Write the Lagrangian, KKT conditions, and find numerically the Lagrange multipliers associated with the solution (using the software package/function). Which constraints are active? Explain and discuss briefly. "
   ]
  },
  {
   "cell_type": "markdown",
   "metadata": {
    "pycharm": {
     "name": "#%% md\n"
    }
   },
   "source": [
    "**Answer as text here**"
   ]
  },
  {
   "cell_type": "code",
   "execution_count": null,
   "metadata": {
    "pycharm": {
     "name": "#%%\n"
    }
   },
   "outputs": [],
   "source": [
    "''' Answer as code here '''"
   ]
  },
  {
   "cell_type": "markdown",
   "metadata": {
    "pycharm": {
     "name": "#%% md\n"
    }
   },
   "source": [
    "## Example: Power Control in Wireless Communication"
   ]
  },
  {
   "cell_type": "markdown",
   "metadata": {
    "pycharm": {
     "name": "#%% md\n"
    }
   },
   "source": [
    " *Adapted from Boyd, Kim, Vandenberghe, and Hassibi,* \"[A Tutorial on Geometric Programming](https://web.stanford.edu/~boyd/papers/pdf/gp_tutorial.pdf).\"\n",
    "\n",
    "The [power control problem in wireless communications](http://winlab.rutgers.edu/~narayan/PAPERS/PC%20for%20Wireless%20Data.pdf) aims to minimise the total transmitter power available across $N$ trasmitters while concurrently achieving good (or a pre-defined minimum) performance. \n",
    "\n",
    "The technical setup is as follows. Each transmitter $i$ transmits with a power level $P_i$ bounded below and above by a minimum and maximum level. The power of the signal received from transmitter $j$ at receiver $i$ is $G_{ij} P_{j}$, where $G_{ij} > 0$ represents the path gain (often loss) from transmitter $j$ to receiver $i$. The signal power at the intended receiver $i$ is $G_{ii} P_i$, and the interference power at receiver $i$ from other transmitters is given by $\\sum_{k \\neq i} G_{ik}P_k$. The (background) noise power at receiver $i$ is $\\sigma_i$. Thus, the _Signal to Interference and  Noise Ratio (SINR)_ of the $i$th receiver-transmitter pair is\n",
    "\n",
    "$$ S_i = \\frac{G_{ii}P_i}{\\sum_{k \\neq i} G_{ik}P_k + \\sigma_i }. $$\n",
    "\n",
    "The minimum SINR represents a performance lower bound for this system, $S^{\\text min}$. \n",
    "\n",
    "The resulting optimisation problem is formulated as\n",
    "\n",
    "$$\n",
    "\\begin{array}{ll}\n",
    "\\min_{P} & \\sum_{i=1}^N P_i \\\\\n",
    "\\text{subject to} & P^{min} \\leq P_i \\leq P^{max}, \\; \\forall i \\\\\n",
    "& \\dfrac{G_{ii}P_i}{\\sigma_i + \\sum_{k \\neq i} G_{ik}P_k} \\geq S^{min} , \\; \\forall i \\\\\n",
    "\\end{array}\n",
    "$$"
   ]
  },
  {
   "cell_type": "markdown",
   "metadata": {
    "pycharm": {
     "name": "#%% md\n"
    }
   },
   "source": [
    "### Question: Wireless Power Control \n",
    "\n",
    "Let $N=10$, $P^{min}=0.1$, $P^{max}=5$, $\\sigma=0.2$ (same for all). Create a random path loss matrix $G$, where off-diagonal elements are between $0.1$ and $0.9$ and the diagonal elements are equal to $1$. \n",
    "\n",
    "1. Write down the Langrangian and KKT conditions of this problem.\n",
    "2. Solve the problem first with $S^{min}=0$ using *Pyomo*. Plot the power levels and SINRs that you obtain. \n",
    "3. What happens if you choose an $S^{min}$ that is larger? Solve the problem again and document your results. What happens if you choose a very large $S^{min}$? Observe and comment. \n",
    "\n",
    "**Note:** *if you are in the minority of people who have problem installing pyomo, then you can use scipy or even Matlab.*"
   ]
  },
  {
   "cell_type": "markdown",
   "metadata": {
    "pycharm": {
     "name": "#%% md\n"
    }
   },
   "source": [
    "**Answer as text here**"
   ]
  },
  {
   "cell_type": "code",
   "execution_count": null,
   "metadata": {
    "pycharm": {
     "name": "#%%\n"
    }
   },
   "outputs": [],
   "source": [
    "''' Answer as code here '''"
   ]
  },
  {
   "cell_type": "markdown",
   "metadata": {
    "pycharm": {
     "name": "#%% md\n"
    }
   },
   "source": [
    "# Part II - Machine Learning (ML) \n",
    "\n",
    "## Topics Covered in Part 2<a name=\"TopicsCovered\"></a>\n",
    "* ML basics and definitions, supervised and unsupervised learning\n",
    "* Linear regression, model selection, and regularisation\n",
    "* Clustering, k-means, and Gaussian Mixture Models\n",
    "* _Remaining topics will be covered in Workshop 2!_\n",
    "\n",
    "![Topic_mindmap](img/WS1-Part_2-ML_topics.png)\n",
    "\n",
    "## Part 2 Notes  <a name=\"TopicNotes\"></a>\n",
    "\n",
    "Optimisation is widely used in engineering (practice and research) today. That was not always so. I expect that in the future machine learning will be as prevalently used in engineering as optimisation is used today. The arguments in favour of it are (a) increasingly more powerful computing (b) lots of data (c) decreasing storage and computing costs. Machine learning benefits substantially from these trends. We will hopefully see together how engineering world will evolve in this century.\n",
    "\n",
    "In this workshop, you will learn how to solve machine learning problems in practice and apply common algorithms to various data sets. Doing this yourself will give you a chance to connect theoretical knowledge and practical usage. We will start with simple, easy-to-visualise (2D) data sets so that concepts become clear. More interesting problems and data will be posed as open-ended (and optional) problems.\n",
    "\n",
    "You will also familiarise yourself with machine learning libraries of Python, which is the de-facto language for ML these days. Still, the tools and data are chosen completely for educational reasons (simplicity, accessibility, cost). There are and will be better ML frameworks and more complex data sets but it is not realistic to cover all. Due to time limitations, we unfortunately do not focus on a big topic in this workshop and subject: [data science](https://study.unimelb.edu.au/find/courses/graduate/master-of-data-science/what-will-i-study/). You should not get the wrong impression from the nice, cleaned-up data sets you are given in this workshop. In real life, data is messy and more than half of data science is about preparing data itself. \n",
    "\n",
    "> In the future, you should consider learning additional ML software packages and libraries. Finding the right tool for the right job is an important skill obtained through knowledge and experience. I would also recommend learning more about data preparation and analysis. The popular [Pandas](https://pandas.pydata.org/) library, which we briefly use, makes a good starting point."
   ]
  },
  {
   "cell_type": "markdown",
   "metadata": {
    "pycharm": {
     "name": "#%% md\n"
    }
   },
   "source": [
    "## Part 2 Objectives <a name=\"Objectives\"></a>\n",
    "* Use these problems as a motivation to learn the fundamentals of machine learning covered in lectures.\n",
    "* Gain hands-on experience with basic machine learning paradigms.\n",
    "* Familiarise yourself with some of the practical software tools used for machine learning.\n",
    "* Solve basic machine learning problems using Python Scipy and Scikit-learn.\n",
    "* Connect theoretical knowledge and practical usage by doing it yourself."
   ]
  },
  {
   "cell_type": "markdown",
   "metadata": {
    "collapsed": true,
    "pycharm": {
     "name": "#%% md\n"
    }
   },
   "source": [
    "## Linear Regression, Overfitting, and Regularisation "
   ]
  },
  {
   "cell_type": "markdown",
   "metadata": {
    "pycharm": {
     "name": "#%% md\n"
    }
   },
   "source": [
    "### Example: Using curve fitting to model Diode characteristics\n",
    "\n",
    "![Diode characteristic](img/diode.png)\n",
    "\n",
    "The diagram above shows the I-V curve of a [diode](https://en.wikipedia.org/wiki/Diode) widely used in electronic circuits, see [1N4001-D spec sheet (right click to download)](1N4001-D.pdf).\n",
    "\n",
    "We can use regression to model the I-V curve of this diode at 25$^{\\circ}$C.\n",
    "\n",
    "Using the nice tool, [WebPlotDigitizer](https://automeris.io/WebPlotDigitizer/), a small and clean data set is generated and stored in [csv format](https://en.wikipedia.org/wiki/Comma-separated_values). We now use the famous [pandas library](https://pandas.pydata.org/) to read the *csv* file."
   ]
  },
  {
   "cell_type": "code",
   "execution_count": null,
   "metadata": {
    "ExecuteTime": {
     "end_time": "2019-03-25T02:45:10.911242Z",
     "start_time": "2019-03-25T02:45:10.388090Z"
    },
    "pycharm": {
     "name": "#%%\n"
    }
   },
   "outputs": [],
   "source": [
    "%matplotlib notebook\n",
    "import pandas as pd\n",
    "import numpy as np\n",
    "from scipy import optimize\n",
    "import matplotlib.pyplot as plt\n",
    "import matplotlib\n",
    "\n",
    "dataset=pd.read_csv('files/diode_dataset.csv', names=['Vf', 'If'])\n",
    "# Note that if you don't put names to csv or into the function as above, \n",
    "# pandas ignores the first row in calculations!\n",
    "dataset.head()"
   ]
  },
  {
   "cell_type": "code",
   "execution_count": null,
   "metadata": {
    "ExecuteTime": {
     "end_time": "2019-03-25T02:45:10.989815Z",
     "start_time": "2019-03-25T02:45:10.965563Z"
    },
    "pycharm": {
     "name": "#%%\n"
    }
   },
   "outputs": [],
   "source": [
    "plt.figure()\n",
    "plt.plot(dataset.values[:,0], dataset.values[:,1])\n",
    "plt.xlabel('Voltage, V')\n",
    "plt.ylabel('Current, I')\n",
    "plt.title('Diode I-V')\n",
    "plt.grid()\n",
    "plt.show()"
   ]
  },
  {
   "cell_type": "markdown",
   "metadata": {
    "pycharm": {
     "name": "#%% md\n"
    }
   },
   "source": [
    "_Note that the figure above is convex but the one above was looking concave! Can you see why?_"
   ]
  },
  {
   "cell_type": "markdown",
   "metadata": {
    "pycharm": {
     "name": "#%% md\n"
    }
   },
   "source": [
    "### Question: Regression\n",
    "\n",
    "Now let's consider the linear model $I=f(V)=a+bV$, for $a, b \\in \\mathbb{R}$ for simplicity.\n",
    "\n",
    "We can find the best $(a, b)$ that minimises the error between the $N$ data points $(I_j, V_j)$ and this linear model by solving the optimisation problem \n",
    "\n",
    "$$\\min_{a, b} \\sum_{j=1}^N (I_j- (a + b V_j))^2 $$\n",
    "\n",
    "This is equivalent *in spirit* to what the machine learning libraries such as *scikit-learn (sklearn)* do to solve this problem! As you will repeatedly see, there is a deep and close relationship between optimisation and many learning methods.\n",
    "\n",
    "1. Find the optimal $a, b$ pair by solving the unconstrained optimisation problem above using *pyomo*. Using the formula and the parameters, $a, b$, you derived, plot the linear I-V curve with the additional constraint $I \\geq 0$ or $\\max(I, 0)$.\n",
    "2. First, fit a [linear model](https://scikit-learn.org/stable/modules/linear_model.html) using \"linear_model.LinearRegression()\". Plot the result, find the coefficients, and calculate the mean squared error (MSE).\n",
    "3. Next, fit a [polynomial model](https://scikit-learn.org/stable/modules/linear_model.html#polynomial-regression-extending-linear-models-with-basis-functions) of second degree, i.e. a quadratic model. Plot the model, find the coefficients, and calculate MSE. Interpret and discuss the results.\n",
    "4. Add a regularisation term, i.e use [ridge regression](https://scikit-learn.org/stable/modules/linear_model.html#ridge-regression). Do you observe an improvement? Discuss.\n",
    "5. Try a couple of higher order models (e.g. 4, 6) without regularisation, and provide the results as before. What do you observe when you compare the coefficients? Find validation and training errors for the models and discuss/interpret your results.\n",
    "\n",
    "#### Hints <a name=\"Hints\"></a>\n",
    "1. you will need to use [pipelines](https://scikit-learn.org/stable/modules/compose.html#pipeline). To access coefficients use `model.named_steps['linearregression'].coef_` or `model.named_steps['ridge'].coef_`\n",
    "2. the `train_test_split` function provides a very convenient way of shuffling the data and dividing it into  training and test sets (3:1 default ratio), see https://scikit-learn.org/stable/modules/generated/sklearn.model_selection.train_test_split.html\n"
   ]
  },
  {
   "cell_type": "code",
   "execution_count": null,
   "metadata": {
    "ExecuteTime": {
     "end_time": "2019-03-25T02:45:20.091506Z",
     "start_time": "2019-03-25T02:45:19.845232Z"
    },
    "pycharm": {
     "name": "#%%\n"
    }
   },
   "outputs": [],
   "source": [
    "from sklearn import linear_model\n",
    "from sklearn.metrics import mean_squared_error\n",
    "from sklearn.linear_model import Ridge\n",
    "from sklearn.preprocessing import PolynomialFeatures\n",
    "from sklearn.pipeline import make_pipeline\n",
    "from sklearn.model_selection import train_test_split\n",
    "\n",
    "# full data in correct form for sklearn\n",
    "Vfulldata = np.array(dataset.values[:,0]).reshape(-1,1) # reshape needed for sklearn functions\n",
    "Ifulldata = np.array(dataset.values[:,1]).reshape(-1,1)\n",
    "\n",
    "# split into training and test sets\n",
    "Vtrain, Vtest, Itrain, Itest = train_test_split(Vfulldata, Ifulldata)"
   ]
  },
  {
   "cell_type": "markdown",
   "metadata": {
    "pycharm": {
     "name": "#%% md\n"
    }
   },
   "source": [
    "**Answer as text here**"
   ]
  },
  {
   "cell_type": "code",
   "execution_count": null,
   "metadata": {
    "scrolled": true,
    "pycharm": {
     "name": "#%%\n"
    }
   },
   "outputs": [],
   "source": [
    "''' Answer as code here '''"
   ]
  },
  {
   "cell_type": "markdown",
   "metadata": {
    "pycharm": {
     "name": "#%% md\n"
    }
   },
   "source": [
    "## Clustering and Gaussian Mixtures "
   ]
  },
  {
   "cell_type": "markdown",
   "metadata": {
    "pycharm": {
     "name": "#%% md\n"
    }
   },
   "source": [
    "Unsupervised learning is all about data. We will use first the famous two moon data set to practice a little bit and digest some of the fundemental concepts. Since two moons data inherently has two clusters (each moon as a cluster), we can use this as a [ground truth](https://en.wikipedia.org/wiki/Ground_truth). In most real problems, we don't have this luxury of having the ground truth at hand! \n",
    "\n",
    "**Note** that Scikit Learn does not have its own global random state but uses the [numpy random state](https://docs.scipy.org/doc/numpy-1.15.1/reference/generated/numpy.random.seed.html#numpy.random.seed) instead. See the code below."
   ]
  },
  {
   "cell_type": "code",
   "execution_count": null,
   "metadata": {
    "ExecuteTime": {
     "end_time": "2019-03-25T02:45:35.973271Z",
     "start_time": "2019-03-25T02:45:35.902585Z"
    },
    "pycharm": {
     "name": "#%%\n"
    }
   },
   "outputs": [],
   "source": [
    "from sklearn import cluster, datasets, mixture\n",
    "from sklearn.cluster import KMeans\n",
    "from sklearn.utils import shuffle\n",
    "from sklearn import decomposition\n",
    "from sklearn.mixture import GaussianMixture\n",
    "from sklearn import metrics\n",
    "\n",
    "# Set a random seed as you did in optimisation workshop by uncommenting the line below!\n",
    "#np.random.seed(Put here a group-specific number!)\n",
    "\n",
    "noisy_moons = datasets.make_moons(n_samples=200, noise=0.05)\n",
    "X = noisy_moons[0] # data points\n",
    "y = noisy_moons[1] # 0, 1 labels of class, 50 each - giving us the ground truth\n",
    "\n",
    "order_ind = np.argsort(y) # order labels, 50 each class\n",
    "X1 = X[order_ind[0:100]]   # class 1\n",
    "X2 = X[order_ind[101:200]] # class 2\n",
    "\n",
    "# Plot data\n",
    "plt.figure()\n",
    "plt.scatter(X1[:,0], X1[:,1], color='black')\n",
    "plt.scatter(X2[:,0], X2[:,1], color='red')\n",
    "plt.show()"
   ]
  },
  {
   "cell_type": "markdown",
   "metadata": {
    "pycharm": {
     "name": "#%% md\n"
    }
   },
   "source": [
    "### Question: K-means clustering \n",
    "1. Use sklearn's k-means clustering algorithm to divide the two moon data given above ($X$) into two clusters. Plot the result and show the cluster centres that you found.\n",
    "2. Experiment with different starting points (`init='random'`) and number of clusters, e.g. 3, 4, 5. Write your observations and interpret them using your theoretical knowledge from lectures and books."
   ]
  },
  {
   "cell_type": "code",
   "execution_count": null,
   "metadata": {
    "pycharm": {
     "name": "#%%\n"
    }
   },
   "outputs": [],
   "source": [
    "''' Answer as code here '''"
   ]
  },
  {
   "cell_type": "markdown",
   "metadata": {
    "pycharm": {
     "name": "#%% md\n"
    }
   },
   "source": [
    "**Answer as text here**"
   ]
  },
  {
   "cell_type": "markdown",
   "metadata": {
    "pycharm": {
     "name": "#%% md\n"
    }
   },
   "source": [
    "### Question: GMMs as density estimators \n",
    "\n",
    "1. Now use a Gaussian Mixture Model (GMM) for clustering the same two moon data. Try two clusters and plot your results. GMMs also provides you probabilities (of a sample belonging to a cluster). Print those of a few samples.\n",
    "2. Increase the number of components of your GMM model. What do you observe? Use a metric to choose the number of components in a principled way. *Hint: check [BIC](https://en.wikipedia.org/wiki/Bayesian_information_criterion) or [AIC](https://en.wikipedia.org/wiki/Akaike_information_criterion)*\n",
    "3. It is maybe better to use GMM as a **generative model**! Generate 200 brand new samples from a trained GMM with your choice of parameters and plot your results. Discuss your findings!"
   ]
  },
  {
   "cell_type": "code",
   "execution_count": null,
   "metadata": {
    "pycharm": {
     "name": "#%%\n"
    }
   },
   "outputs": [],
   "source": [
    "''' Answer as code here '''"
   ]
  },
  {
   "cell_type": "markdown",
   "metadata": {
    "pycharm": {
     "name": "#%% md\n"
    }
   },
   "source": [
    "**Answer as text here**"
   ]
  },
  {
   "cell_type": "markdown",
   "metadata": {
    "pycharm": {
     "name": "#%% md\n"
    }
   },
   "source": [
    "# <font color='red'> Workshop Assessment Instructions </font> \n",
    "\n",
    "_You should complete the workshop tasks and answer the questions within the allocated session!_ **Submission deadline is usually end of the last week of the workshop. Please check Canvas for the exact deadline!**\n",
    "\n",
    "It is **mandatory to follow all of the submissions guidelines** given below. _Don't forget the Report submission information on top of this notebook!_\n",
    "\n",
    "1. The completed Jupyter notebook and its Pdf version (you can simply print-preview and then print as pdf from within your browser) should be uploaded to the right place in Canvas. _It is your responsibility to follow the announcements!_ **Late submissions will be penalised (up to 100% of the total mark depending on delay amount)!**\n",
    "2. Filename should be “ELEN90088 Workshop **W: StudentID1-StudentID2** of session **Day-Time**\", where **W** refers to the workshop number, **StudentID1-StudentID2** are your student numbers, **Day-Time** is your session day and time, e.g. *Tue-14*.\n",
    "3. Answers to questions, simulation results and diagrams should be included in the Jupyter notebook as text, code, plots. *If you don't know latex, you can write formulas/text to a paper by hand, scan it and then include as image within Markdown cells.*\n",
    "4. Please submit your report individually. Partners can submit the same report. \n",
    "\n",
    "## Workshop Marking \n",
    "\n",
    "* **Each workshop has 15 points corresponding to 15% of the total subject mark inclusive individual oral examination.** You can find the detailed rubrics on Canvas.\n",
    "* Individual oral quizzes will be scheduled within the next two weeks following the report submission. They will be during workshop hours. Therefore, it is important that you attend the workshops!\n",
    "* The individual oral examination will assess your answers to workshop questions, what you have done in that workshop, and your knowledge of the subject material in association with the workshop.\n",
    " \n",
    "### Additional guidelines for your programs: \n",
    "\n",
    "* Write modular code using functions. \n",
    "* Properly indent your code. But Python forces you do that anyway ;)\n",
    "* Heavily comment the code to describe your implementation and to show your understanding. No comments, no credit!\n",
    "* Make the code your own! It is encouraged to find and get inspired by online examples but you should exactly understand, modify as needed, and explain your code via comments. If you resort to blind copy/paste, you will certainly not do well in the individual oral quizzes."
   ]
  },
  {
   "cell_type": "markdown",
   "metadata": {
    "pycharm": {
     "name": "#%% md\n"
    }
   },
   "source": [
    "**<font color='red'>Report Submission Information (must be completed before submitting report!)</font>**\n",
    "\n",
    "* Student 1 Full Name and Number: \n",
    "* Student 2 Full Name and Number: \n",
    "* Workshop day: e.g., Wednesday\n",
    "* Workshop time: e.g., 12pm "
   ]
  },
  {
   "cell_type": "code",
   "execution_count": null,
   "metadata": {
    "pycharm": {
     "name": "#%%\n"
    }
   },
   "outputs": [],
   "source": []
  }
 ],
 "metadata": {
  "kernelspec": {
   "display_name": "Python 3 (ipykernel)",
   "language": "python",
   "name": "python3"
  },
  "language_info": {
   "codemirror_mode": {
    "name": "ipython",
    "version": 3
   },
   "file_extension": ".py",
   "mimetype": "text/x-python",
   "name": "python",
   "nbconvert_exporter": "python",
   "pygments_lexer": "ipython3",
   "version": "3.9.16"
  },
  "toc": {
   "base_numbering": 1,
   "nav_menu": {},
   "number_sections": true,
   "sideBar": true,
   "skip_h1_title": false,
   "title_cell": "Table of Contents",
   "title_sidebar": "Contents",
   "toc_cell": true,
   "toc_position": {
    "height": "calc(100% - 180px)",
    "left": "10px",
    "top": "150px",
    "width": "365.275px"
   },
   "toc_section_display": true,
   "toc_window_display": false
  }
 },
 "nbformat": 4,
 "nbformat_minor": 2
}